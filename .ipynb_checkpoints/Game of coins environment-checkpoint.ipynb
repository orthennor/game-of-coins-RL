{
 "cells": [
  {
   "cell_type": "code",
   "execution_count": 1,
   "metadata": {},
   "outputs": [],
   "source": [
    "import numpy as np\n",
    "import random\n",
    "from collections import defaultdict"
   ]
  },
  {
   "cell_type": "code",
   "execution_count": 440,
   "metadata": {},
   "outputs": [],
   "source": [
    "class env:\n",
    "    def __init__(self, size, step_limit, debug=0):\n",
    "        self.number_of_resources = 3\n",
    "        self.amount_of_resource = 4\n",
    "        self.debug = debug\n",
    "        self.size = size\n",
    "        self.step_limit = step_limit\n",
    "        #self.valid_moves = ['up', 'down', 'left', 'right', 'pass']\n",
    "        self.valid_moves = [0, 1, 2, 3, 4]\n",
    "        self.move_map = {0:[-1,0], \n",
    "                         1:[1,0], \n",
    "                         2:[0,-1], \n",
    "                         3:[0,1], \n",
    "                         4:[0,0]}\n",
    "        \n",
    "        self.initialize_map()\n",
    "        self.initialize_resources()\n",
    "        \n",
    "\n",
    "    \n",
    "    def initialize_map(self):\n",
    "        self.map = np.zeros((self.size, self.size), dtype=int)\n",
    "        agent_rand_loc = random.randint(0,1)\n",
    "        if agent_rand_loc:\n",
    "            agent_1_coords = [0,self.size -1]\n",
    "            self.map[0,self.size -1 ] = -1\n",
    "            agent_2_coords = [0,0]\n",
    "            self.map[0, 0] = -2 \n",
    "            \n",
    "        else:\n",
    "            agent_1_coords = [0,0]\n",
    "            self.map[0,0] = -1\n",
    "            agent_2_coords = [0,self.size-1]\n",
    "            self.map[0,self.size-1] = -2\n",
    "        self.agents_coords = [agent_1_coords, agent_2_coords]\n",
    "        \n",
    "    def initialize_resources(self):\n",
    "        self.resources = []\n",
    "        index = [i for i in range(self.size**2) if (i != 0) and (i != self.size-1)]\n",
    "        all_indexes = random.sample(index, self.number_of_resources*self.amount_of_resource)\n",
    "        res_ind = []\n",
    "        for i in range(self.number_of_resources):\n",
    "            resource = random.sample(all_indexes, self.amount_of_resource)\n",
    "            all_indexes = [r for r in all_indexes if r not in resource]\n",
    "            resource = [(int(r/self.size),r%self.size) for r in resource]\n",
    "            empty_map = np.zeros((self.size, self.size), dtype=int)\n",
    "            for ind in range(len(resource)):\n",
    "                x, y = resource[ind][0], resource[ind][1]                \n",
    "                self.map[x, y] = i+1\n",
    "                empty_map[x, y] = 1\n",
    "            self.resources.append(empty_map)\n",
    "        goal_index = [i for i in range(self.number_of_resources)]\n",
    "        goals = random.sample(goal_index, 2)\n",
    "        self.agents_goals = goals\n",
    "        self.agents_res_collected = [[], []]\n",
    "        self.agents_self_goal_collected = [0, 0]\n",
    "        self.agents_othr_goal_collected = [0, 0]\n",
    "        self.agents_nthr_goal_collected = [0, 0]\n",
    "                \n",
    "    def step(self, agent_numb, move_code):\n",
    "        if self.step_limit == 0:\n",
    "            if self.debug:\n",
    "                print('step limit reached, error')\n",
    "        else:\n",
    "            self.step_limit -= 1\n",
    "            if self.debug:\n",
    "                print(self.step_limit, 'steps left')\n",
    "        if move_code not in self.valid_moves:\n",
    "            if self.debug:\n",
    "                print('icorrect move')\n",
    "        else:\n",
    "            agent_old_coords = self.agents_coords[agent_numb]\n",
    "            move = self.move_map[move_code]\n",
    "            agent_new_coords = l3 = [l+r for l,r in zip(agent_old_coords, move)]\n",
    "            correct_move = True\n",
    "            for coord in agent_new_coords:\n",
    "                if (coord < 0) or (coord >= self.size):\n",
    "                    if self.debug:\n",
    "                        print('icorrect move')\n",
    "                    correct_move = False\n",
    "            other_coords = self.agents_coords[1-agent_numb]\n",
    "            if agent_new_coords == other_coords:\n",
    "                if self.debug:\n",
    "                    print('icorrect move')\n",
    "                correct_move = False\n",
    "            if correct_move:\n",
    "                self.map[agent_old_coords[0],agent_old_coords[1]] = 0\n",
    "                self.map[agent_new_coords[0],agent_new_coords[1]] = -1 - agent_numb\n",
    "                self.agents_coords[agent_numb] = agent_new_coords\n",
    "                for res in range(self.number_of_resources):\n",
    "                    if self.resources[res][agent_new_coords[0],agent_new_coords[1]] != 0:\n",
    "                        self.agents_res_collected[agent_numb].append(res)\n",
    "                        self.resources[res][agent_new_coords[0],agent_new_coords[1]] = 0\n",
    "                        if res == self.agents_goals[agent_numb]:\n",
    "                            self.agents_self_goal_collected[agent_numb]+=1\n",
    "                            if self.debug:\n",
    "                                print('collected self goal resource:', res)\n",
    "                        elif res == self.agents_goals[1 - agent_numb]:\n",
    "                            self.agents_othr_goal_collected[agent_numb]+=1\n",
    "                            if self.debug:\n",
    "                                print('collected other goal resource:', res)\n",
    "                        else:\n",
    "                            self.agents_nthr_goal_collected[agent_numb]+=1\n",
    "                            if self.debug:\n",
    "                                print('collected neither goal resource:', res)\n",
    "                            \n",
    "    def observation(self, agent_numb):\n",
    "        feature_vec = []\n",
    "        self_other_coords = [self.agents_coords[agent_numb], \n",
    "                             self.agents_coords[1 - agent_numb] \n",
    "                            ]\n",
    "        for agnt_coords in self_other_coords:\n",
    "            agent_map = np.zeros((self.size, self.size), dtype=int)\n",
    "            agent_map[agnt_coords[0],agnt_coords[1]] = 1\n",
    "            agent_map = np.reshape(agent_map, self.size*self.size)\n",
    "            feature_vec.extend(agent_map)\n",
    "            \n",
    "        for res in range(len(self.resources)):\n",
    "            feature_vec.extend(np.reshape(self.resources[res], self.size*self.size))\n",
    "        \n",
    "        return feature_vec\n",
    "    \n",
    "    def reward(self):\n",
    "        \n",
    "        n_self_c_self = self.agents_self_goal_collected[0]\n",
    "        n_othr_c_self = self.agents_othr_goal_collected[1]\n",
    "        \n",
    "        n_self_c_othr = self.agents_othr_goal_collected[0]\n",
    "        n_othr_c_othr = self.agents_self_goal_collected[1]\n",
    "        \n",
    "        n_self_c_nthr = self.agents_nthr_goal_collected[0]\n",
    "        n_othr_c_nthr = self.agents_nthr_goal_collected[1]\n",
    "        \n",
    "        reward = (n_self_c_self + n_othr_c_self)**2 + \\\n",
    "                 (n_self_c_othr + n_othr_c_othr)**2 - \\\n",
    "                 (n_self_c_nthr + n_othr_c_nthr)**2 \n",
    "        \n",
    "        return reward\n",
    "\n",
    "    def reset(self):\n",
    "        self.step_limit = step_limit\n",
    "        self.initialize_map()\n",
    "        self.initialize_resources()"
   ]
  },
  {
   "cell_type": "code",
   "execution_count": 441,
   "metadata": {},
   "outputs": [],
   "source": [
    "buffer_ag_1 = []\n",
    "buffer_ag_2 = []\n",
    "\n",
    "def sample_from_buffer(buffer, batch_size=1):\n",
    "    batch = random.sample(buffer,batch_size)\n",
    "    inputs = [i[0] for i in batch]\n",
    "    actions = [i[1] for i in batch]\n",
    "    revards = [i[2] for i in batch]\n",
    "    \n",
    "    inputs = torch.FloatTensor(inputs)\n",
    "    actions = torch.FloatTensor(actions)\n",
    "    revards = torch.FloatTensor(revards)\n",
    "    \n",
    "    return inputs, actions, revards"
   ]
  },
  {
   "cell_type": "code",
   "execution_count": 442,
   "metadata": {},
   "outputs": [
    {
     "data": {
      "text/plain": [
       "array([[-2,  0,  0,  3,  0,  0,  0, -1],\n",
       "       [ 0,  1,  0,  0,  1,  0,  0,  0],\n",
       "       [ 0,  0,  3,  0,  0,  0,  0,  0],\n",
       "       [ 0,  0,  0,  2,  0,  0,  3,  0],\n",
       "       [ 0,  0,  2,  0,  0,  0,  0,  0],\n",
       "       [ 0,  1,  0,  0,  0,  0,  0,  0],\n",
       "       [ 0,  0,  0,  0,  2,  0,  0,  0],\n",
       "       [ 0,  0,  2,  1,  0,  0,  0,  3]])"
      ]
     },
     "execution_count": 442,
     "metadata": {},
     "output_type": "execute_result"
    }
   ],
   "source": [
    "env_1 = env(8, 20)\n",
    "env_1.map"
   ]
  },
  {
   "cell_type": "code",
   "execution_count": 443,
   "metadata": {},
   "outputs": [
    {
     "data": {
      "text/plain": [
       "[1, 0]"
      ]
     },
     "execution_count": 443,
     "metadata": {},
     "output_type": "execute_result"
    }
   ],
   "source": [
    "env_1.agents_goals"
   ]
  },
  {
   "cell_type": "code",
   "execution_count": 444,
   "metadata": {},
   "outputs": [
    {
     "data": {
      "text/plain": [
       "[[0, 7], [0, 0]]"
      ]
     },
     "execution_count": 444,
     "metadata": {},
     "output_type": "execute_result"
    }
   ],
   "source": [
    "env_1.agents_coords"
   ]
  },
  {
   "cell_type": "code",
   "execution_count": 445,
   "metadata": {},
   "outputs": [],
   "source": [
    "#self.valid_moves = ['up', 'down', 'left', 'right', 'pass']\n",
    "#self.valid_moves = [0, 1, 2, 3, 4]"
   ]
  },
  {
   "cell_type": "code",
   "execution_count": 457,
   "metadata": {},
   "outputs": [
    {
     "name": "stdout",
     "output_type": "stream",
     "text": [
      "11 steps left\n",
      "icorrect move\n"
     ]
    },
    {
     "data": {
      "text/plain": [
       "array([[-2,  0,  0,  3,  0,  0,  0,  0],\n",
       "       [ 0,  1,  0,  0,  1,  0,  0,  0],\n",
       "       [ 0,  0,  3,  0,  0,  0,  0,  0],\n",
       "       [ 0,  0,  0,  2,  0,  0,  3,  0],\n",
       "       [ 0,  0,  2,  0,  0,  0,  0,  0],\n",
       "       [ 0,  1,  0,  0,  0,  0,  0,  0],\n",
       "       [ 0,  0,  0,  0,  2,  0,  0,  0],\n",
       "       [ 0,  0,  2,  1,  0,  0,  0, -1]])"
      ]
     },
     "execution_count": 457,
     "metadata": {},
     "output_type": "execute_result"
    }
   ],
   "source": [
    "env_1.step(agent_numb = 0, move_code = 1)\n",
    "env_1.map"
   ]
  },
  {
   "cell_type": "code",
   "execution_count": 449,
   "metadata": {},
   "outputs": [],
   "source": [
    "env_1.debug = 1"
   ]
  },
  {
   "cell_type": "code",
   "execution_count": 405,
   "metadata": {},
   "outputs": [
    {
     "data": {
      "text/plain": [
       "[0, 0]"
      ]
     },
     "execution_count": 405,
     "metadata": {},
     "output_type": "execute_result"
    }
   ],
   "source": [
    "env_1.agents_self_goal_collected"
   ]
  },
  {
   "cell_type": "code",
   "execution_count": 406,
   "metadata": {},
   "outputs": [
    {
     "data": {
      "text/plain": [
       "[0, 0]"
      ]
     },
     "execution_count": 406,
     "metadata": {},
     "output_type": "execute_result"
    }
   ],
   "source": [
    "env_1.agents_othr_goal_collected"
   ]
  },
  {
   "cell_type": "code",
   "execution_count": 407,
   "metadata": {},
   "outputs": [
    {
     "data": {
      "text/plain": [
       "[0, 0]"
      ]
     },
     "execution_count": 407,
     "metadata": {},
     "output_type": "execute_result"
    }
   ],
   "source": [
    "env_1.agents_nthr_goal_collected"
   ]
  },
  {
   "cell_type": "code",
   "execution_count": 426,
   "metadata": {},
   "outputs": [
    {
     "data": {
      "text/plain": [
       "0"
      ]
     },
     "execution_count": 426,
     "metadata": {},
     "output_type": "execute_result"
    }
   ],
   "source": [
    "env_1.reward()"
   ]
  },
  {
   "cell_type": "code",
   "execution_count": 377,
   "metadata": {},
   "outputs": [
    {
     "data": {
      "text/plain": [
       "array([[-2,  0,  0,  0,  0,  0,  0, -1],\n",
       "       [ 0,  0,  0,  3,  0,  0,  1,  0],\n",
       "       [ 1,  0,  0,  0,  0,  0,  0,  0],\n",
       "       [ 3,  0,  0,  0,  0,  0,  0,  3],\n",
       "       [ 0,  0,  1,  2,  3,  2,  0,  0],\n",
       "       [ 2,  0,  0,  0,  0,  0,  0,  0],\n",
       "       [ 0,  0,  0,  0,  1,  0,  2,  0],\n",
       "       [ 0,  0,  0,  0,  0,  0,  0,  0]])"
      ]
     },
     "execution_count": 377,
     "metadata": {},
     "output_type": "execute_result"
    }
   ],
   "source": [
    "env_1.map"
   ]
  },
  {
   "cell_type": "code",
   "execution_count": 389,
   "metadata": {},
   "outputs": [
    {
     "data": {
      "text/plain": [
       "array([[-1,  0,  0,  3,  1,  1,  0, -2],\n",
       "       [ 0,  0,  0,  0,  0,  0,  0,  0],\n",
       "       [ 0,  0,  0,  1,  0,  0,  0,  0],\n",
       "       [ 0,  0,  0,  0,  0,  3,  0,  0],\n",
       "       [ 2,  0,  0,  0,  0,  0,  0,  0],\n",
       "       [ 0,  0,  0,  0,  0,  0,  0,  2],\n",
       "       [ 0,  0,  2,  2,  3,  0,  0,  3],\n",
       "       [ 0,  0,  0,  0,  1,  0,  0,  0]])"
      ]
     },
     "execution_count": 389,
     "metadata": {},
     "output_type": "execute_result"
    }
   ],
   "source": [
    "env_1.reset()\n",
    "env_1.map"
   ]
  },
  {
   "cell_type": "code",
   "execution_count": null,
   "metadata": {},
   "outputs": [],
   "source": [
    "env_1"
   ]
  }
 ],
 "metadata": {
  "kernelspec": {
   "display_name": "Python 3",
   "language": "python",
   "name": "python3"
  },
  "language_info": {
   "codemirror_mode": {
    "name": "ipython",
    "version": 3
   },
   "file_extension": ".py",
   "mimetype": "text/x-python",
   "name": "python",
   "nbconvert_exporter": "python",
   "pygments_lexer": "ipython3",
   "version": "3.7.3"
  }
 },
 "nbformat": 4,
 "nbformat_minor": 2
}
