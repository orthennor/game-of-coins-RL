{
  "nbformat": 4,
  "nbformat_minor": 0,
  "metadata": {
    "colab": {
      "name": "Agents",
      "provenance": [],
      "collapsed_sections": []
    },
    "kernelspec": {
      "name": "python3",
      "display_name": "Python 3"
    }
  },
  "cells": [
    {
      "cell_type": "code",
      "metadata": {
        "id": "b_XUchWfDUiV",
        "colab_type": "code",
        "colab": {}
      },
      "source": [
        "import torch\n",
        "import torch.nn as nn"
      ],
      "execution_count": 0,
      "outputs": []
    },
    {
      "cell_type": "code",
      "metadata": {
        "id": "_ZDDGyqWDXGN",
        "colab_type": "code",
        "colab": {}
      },
      "source": [
        "class Ffunction(nn.Module):\n",
        "  def __init__(self, input_size):\n",
        "    super(Ffunction, self).__init__()\n",
        "    self.input_size = input_size\n",
        "    self.lstm = nn.LSTM(input_size, 64)\n",
        "    self.fullycon1 = nn.Linear(64, 64)\n",
        "    nn.init.orthogonal(self.fullycon1.weight)\n",
        "    self.fullycon2 = nn.Linear(64, 64)\n",
        "    nn.init.orthogonal(self.fullycon2.weight)\n",
        "    self.policy = nn.Linear(64, 5)\n",
        "    nn.init.orthogonal(self.policy.weight)\n",
        "    self.value = nn.Linear(64, 1)\n",
        "    nn.init.orthogonal(self.value.weight)\n",
        "\n",
        "    self.beta = 0.01\n",
        "\n",
        "  def forward(self, x): #x = input\n",
        "    result, _ = self.lstm(x.view(-1, 1, self.input_size))\n",
        "    result = nn.functional.elu(self.fullycon1(result.view(-1, 64)))\n",
        "    result = nn.functional.elu(self.fullycon2(result))\n",
        "    return nn.functional.softmax(self.policy(result)), self.value(result)\n",
        "\n",
        "  def getA2Closs(self, actions, states, rewards):\n",
        "    probs, values = self.forward(states)\n",
        "    advantage = rewards - values\n",
        "    actions_one_hot = torch.zeros(batch_size, 5)\n",
        "    actions_one_hot[torch.arange(batch_size), actions.view(batch_size)] = 1\n",
        "    logs = torch.log(torch.sum(probs.view(batch_size, 5) * actions_one_hot.view(batch_size, 5), (1)))\n",
        "    logloss = logs * advantage.view(batch_size)\n",
        "    entropyloss = -torch.sum(probs * torch.log(probs), (1))\n",
        "\n",
        "    return logloss + self.beta * entropyloss"
      ],
      "execution_count": 0,
      "outputs": []
    },
    {
      "cell_type": "code",
      "metadata": {
        "id": "fNPqy0rLEEVc",
        "colab_type": "code",
        "colab": {
          "base_uri": "https://localhost:8080/",
          "height": 153
        },
        "outputId": "420cf433-e45b-4181-e3fd-39cb7f6762e4"
      },
      "source": [
        "agent = Ffunction(326)\n",
        "opt = torch.optim.Adam(agent.parameters(), betas=(0.9, 0.999), eps=1 * 10 ** -8)\n",
        "batch_size = 20"
      ],
      "execution_count": 4,
      "outputs": [
        {
          "output_type": "stream",
          "text": [
            "/usr/local/lib/python3.6/dist-packages/ipykernel_launcher.py:7: UserWarning: nn.init.orthogonal is now deprecated in favor of nn.init.orthogonal_.\n",
            "  import sys\n",
            "/usr/local/lib/python3.6/dist-packages/ipykernel_launcher.py:9: UserWarning: nn.init.orthogonal is now deprecated in favor of nn.init.orthogonal_.\n",
            "  if __name__ == '__main__':\n",
            "/usr/local/lib/python3.6/dist-packages/ipykernel_launcher.py:11: UserWarning: nn.init.orthogonal is now deprecated in favor of nn.init.orthogonal_.\n",
            "  # This is added back by InteractiveShellApp.init_path()\n",
            "/usr/local/lib/python3.6/dist-packages/ipykernel_launcher.py:13: UserWarning: nn.init.orthogonal is now deprecated in favor of nn.init.orthogonal_.\n",
            "  del sys.path[0]\n"
          ],
          "name": "stderr"
        }
      ]
    },
    {
      "cell_type": "code",
      "metadata": {
        "id": "WjaE68ceE3lc",
        "colab_type": "code",
        "colab": {}
      },
      "source": [
        "for episodes in range(100):\n",
        "  x_other = torch.FloatTensor([1] * 3) / 3\n",
        "  x_other.requires_grad_(True)\n",
        "\n",
        "  opt2 = torch.optim.SGD([x_other], lr=0.1)\n",
        "\n",
        "  env = #env\n",
        "\n",
        "  for step in range(max_steps):\n",
        "\n",
        "\n",
        "\n",
        "    "
      ],
      "execution_count": 0,
      "outputs": []
    },
    {
      "cell_type": "code",
      "metadata": {
        "id": "7L2EneZvFgmg",
        "colab_type": "code",
        "colab": {}
      },
      "source": [
        ""
      ],
      "execution_count": 0,
      "outputs": []
    }
  ]
}