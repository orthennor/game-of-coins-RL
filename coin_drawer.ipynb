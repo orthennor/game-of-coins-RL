{
  "nbformat": 4,
  "nbformat_minor": 0,
  "metadata": {
    "colab": {
      "name": "Untitled12.ipynb",
      "provenance": [],
      "collapsed_sections": []
    },
    "kernelspec": {
      "name": "python3",
      "display_name": "Python 3"
    }
  },
  "cells": [
    {
      "cell_type": "code",
      "metadata": {
        "id": "csmcLDWLYiUH",
        "colab_type": "code",
        "colab": {}
      },
      "source": [
        "def draw_line(map, start, end):\n",
        "    res = np.zeros(map.shape)\n",
        "    return res"
      ],
      "execution_count": null,
      "outputs": []
    },
    {
      "cell_type": "code",
      "metadata": {
        "id": "apCmKzkZfPl6",
        "colab_type": "code",
        "colab": {}
      },
      "source": [
        "def vector_prod()"
      ],
      "execution_count": null,
      "outputs": []
    },
    {
      "cell_type": "code",
      "metadata": {
        "id": "IoMXq2TOe-bW",
        "colab_type": "code",
        "colab": {}
      },
      "source": [
        "def intersect_segment(start, end, seg_start, seg_end):\n",
        "    "
      ],
      "execution_count": null,
      "outputs": []
    },
    {
      "cell_type": "code",
      "metadata": {
        "id": "DoArxOGue1yn",
        "colab_type": "code",
        "colab": {}
      },
      "source": [
        "def intersect_cell(start, end, cell):\n"
      ],
      "execution_count": null,
      "outputs": []
    },
    {
      "cell_type": "code",
      "metadata": {
        "id": "HV02AOp3Y8LE",
        "colab_type": "code",
        "colab": {}
      },
      "source": [
        "def check_intersect(start, end, cell):\n",
        "    "
      ],
      "execution_count": null,
      "outputs": []
    },
    {
      "cell_type": "code",
      "metadata": {
        "id": "V2GANnddYzNs",
        "colab_type": "code",
        "colab": {}
      },
      "source": [
        "import numpy as np"
      ],
      "execution_count": 9,
      "outputs": []
    },
    {
      "cell_type": "code",
      "metadata": {
        "id": "XeavV5tbYtSY",
        "colab_type": "code",
        "colab": {
          "base_uri": "https://localhost:8080/",
          "height": 187
        },
        "outputId": "286de306-e6be-41e5-d262-6e3ba78a93ab"
      },
      "source": [
        "draw_line(np.zeros((10, 10)), 1, 1)"
      ],
      "execution_count": null,
      "outputs": [
        {
          "output_type": "execute_result",
          "data": {
            "text/plain": [
              "array([[0., 0., 0., 0., 0., 0., 0., 0., 0., 0.],\n",
              "       [0., 0., 0., 0., 0., 0., 0., 0., 0., 0.],\n",
              "       [0., 0., 0., 0., 0., 0., 0., 0., 0., 0.],\n",
              "       [0., 0., 0., 0., 0., 0., 0., 0., 0., 0.],\n",
              "       [0., 0., 0., 0., 0., 0., 0., 0., 0., 0.],\n",
              "       [0., 0., 0., 0., 0., 0., 0., 0., 0., 0.],\n",
              "       [0., 0., 0., 0., 0., 0., 0., 0., 0., 0.],\n",
              "       [0., 0., 0., 0., 0., 0., 0., 0., 0., 0.],\n",
              "       [0., 0., 0., 0., 0., 0., 0., 0., 0., 0.],\n",
              "       [0., 0., 0., 0., 0., 0., 0., 0., 0., 0.]])"
            ]
          },
          "metadata": {
            "tags": []
          },
          "execution_count": 4
        }
      ]
    },
    {
      "cell_type": "code",
      "metadata": {
        "id": "kdMGGlfP5OpZ",
        "colab_type": "code",
        "colab": {}
      },
      "source": [
        "import pickle"
      ],
      "execution_count": 6,
      "outputs": []
    },
    {
      "cell_type": "code",
      "metadata": {
        "id": "SJ7Molom5g3k",
        "colab_type": "code",
        "colab": {}
      },
      "source": [
        "with open(\"/content/drive/My Drive/164695 186940\", 'rb') as f:\n",
        "    data_new = pickle.load(f)"
      ],
      "execution_count": 39,
      "outputs": []
    },
    {
      "cell_type": "code",
      "metadata": {
        "id": "AaMqcd__JMXD",
        "colab_type": "code",
        "colab": {}
      },
      "source": [
        "maps = []\n",
        "for i in data_new:\n",
        "    maps.append([])\n",
        "    for j in i:\n",
        "        maps[-1].append(np.array(j[:8]))"
      ],
      "execution_count": 40,
      "outputs": []
    },
    {
      "cell_type": "code",
      "metadata": {
        "id": "sfAyhldYL-F_",
        "colab_type": "code",
        "colab": {}
      },
      "source": [
        "probs = []\n",
        "for i in data_new:\n",
        "    probs.append([])\n",
        "    for j in i:\n",
        "        if(len(j) > 8):\n",
        "            probs[-1].append(j[8])"
      ],
      "execution_count": 41,
      "outputs": []
    },
    {
      "cell_type": "code",
      "metadata": {
        "id": "mCFvNVqrJ4Ux",
        "colab_type": "code",
        "colab": {
          "base_uri": "https://localhost:8080/",
          "height": 34
        },
        "outputId": "e01e0da3-32ef-4a57-8544-08a40c383612"
      },
      "source": [
        "len(maps) // 5 // 2 * 5"
      ],
      "execution_count": 42,
      "outputs": [
        {
          "output_type": "execute_result",
          "data": {
            "text/plain": [
              "21695"
            ]
          },
          "metadata": {
            "tags": []
          },
          "execution_count": 42
        }
      ]
    },
    {
      "cell_type": "code",
      "metadata": {
        "id": "oJxpIM8ILhbl",
        "colab_type": "code",
        "colab": {
          "base_uri": "https://localhost:8080/",
          "height": 34
        },
        "outputId": "0623419a-c2d8-40bd-fcf7-07d31abd0f4f"
      },
      "source": [
        "len(maps)"
      ],
      "execution_count": 43,
      "outputs": [
        {
          "output_type": "execute_result",
          "data": {
            "text/plain": [
              "43395"
            ]
          },
          "metadata": {
            "tags": []
          },
          "execution_count": 43
        }
      ]
    },
    {
      "cell_type": "code",
      "metadata": {
        "id": "ujYOoCi-JFHR",
        "colab_type": "code",
        "colab": {
          "base_uri": "https://localhost:8080/",
          "height": 428
        },
        "outputId": "490c41b5-8c9e-4eb1-e55c-d0b976b64b94"
      },
      "source": [
        "make_gif(21696, 'gif11')"
      ],
      "execution_count": 51,
      "outputs": [
        {
          "output_type": "stream",
          "text": [
            "/usr/local/lib/python3.6/dist-packages/ipykernel_launcher.py:2: RuntimeWarning: More than 20 figures have been opened. Figures created through the pyplot interface (`matplotlib.pyplot.figure`) are retained until explicitly closed and may consume too much memory. (To control this warning, see the rcParam `figure.max_open_warning`).\n",
            "  \n"
          ],
          "name": "stderr"
        },
        {
          "output_type": "display_data",
          "data": {
            "text/plain": [
              "<Figure size 864x576 with 0 Axes>"
            ]
          },
          "metadata": {
            "tags": []
          }
        },
        {
          "output_type": "display_data",
          "data": {
            "text/plain": [
              "<Figure size 864x576 with 0 Axes>"
            ]
          },
          "metadata": {
            "tags": []
          }
        },
        {
          "output_type": "display_data",
          "data": {
            "text/plain": [
              "<Figure size 864x576 with 0 Axes>"
            ]
          },
          "metadata": {
            "tags": []
          }
        },
        {
          "output_type": "display_data",
          "data": {
            "text/plain": [
              "<Figure size 864x576 with 0 Axes>"
            ]
          },
          "metadata": {
            "tags": []
          }
        },
        {
          "output_type": "display_data",
          "data": {
            "text/plain": [
              "<Figure size 864x576 with 0 Axes>"
            ]
          },
          "metadata": {
            "tags": []
          }
        },
        {
          "output_type": "display_data",
          "data": {
            "text/plain": [
              "<Figure size 864x576 with 0 Axes>"
            ]
          },
          "metadata": {
            "tags": []
          }
        },
        {
          "output_type": "display_data",
          "data": {
            "text/plain": [
              "<Figure size 864x576 with 0 Axes>"
            ]
          },
          "metadata": {
            "tags": []
          }
        },
        {
          "output_type": "display_data",
          "data": {
            "text/plain": [
              "<Figure size 864x576 with 0 Axes>"
            ]
          },
          "metadata": {
            "tags": []
          }
        },
        {
          "output_type": "display_data",
          "data": {
            "text/plain": [
              "<Figure size 864x576 with 0 Axes>"
            ]
          },
          "metadata": {
            "tags": []
          }
        },
        {
          "output_type": "display_data",
          "data": {
            "text/plain": [
              "<Figure size 864x576 with 0 Axes>"
            ]
          },
          "metadata": {
            "tags": []
          }
        },
        {
          "output_type": "display_data",
          "data": {
            "text/plain": [
              "<Figure size 864x576 with 0 Axes>"
            ]
          },
          "metadata": {
            "tags": []
          }
        },
        {
          "output_type": "display_data",
          "data": {
            "text/plain": [
              "<Figure size 864x576 with 0 Axes>"
            ]
          },
          "metadata": {
            "tags": []
          }
        },
        {
          "output_type": "display_data",
          "data": {
            "text/plain": [
              "<Figure size 864x576 with 0 Axes>"
            ]
          },
          "metadata": {
            "tags": []
          }
        },
        {
          "output_type": "display_data",
          "data": {
            "text/plain": [
              "<Figure size 864x576 with 0 Axes>"
            ]
          },
          "metadata": {
            "tags": []
          }
        },
        {
          "output_type": "display_data",
          "data": {
            "text/plain": [
              "<Figure size 864x576 with 0 Axes>"
            ]
          },
          "metadata": {
            "tags": []
          }
        },
        {
          "output_type": "display_data",
          "data": {
            "text/plain": [
              "<Figure size 864x576 with 0 Axes>"
            ]
          },
          "metadata": {
            "tags": []
          }
        },
        {
          "output_type": "display_data",
          "data": {
            "text/plain": [
              "<Figure size 864x576 with 0 Axes>"
            ]
          },
          "metadata": {
            "tags": []
          }
        },
        {
          "output_type": "display_data",
          "data": {
            "text/plain": [
              "<Figure size 864x576 with 0 Axes>"
            ]
          },
          "metadata": {
            "tags": []
          }
        },
        {
          "output_type": "display_data",
          "data": {
            "text/plain": [
              "<Figure size 864x576 with 0 Axes>"
            ]
          },
          "metadata": {
            "tags": []
          }
        },
        {
          "output_type": "display_data",
          "data": {
            "text/plain": [
              "<Figure size 864x576 with 0 Axes>"
            ]
          },
          "metadata": {
            "tags": []
          }
        },
        {
          "output_type": "display_data",
          "data": {
            "text/plain": [
              "<Figure size 864x576 with 0 Axes>"
            ]
          },
          "metadata": {
            "tags": []
          }
        }
      ]
    },
    {
      "cell_type": "code",
      "metadata": {
        "id": "dzIYHOwHJ7tU",
        "colab_type": "code",
        "colab": {}
      },
      "source": [
        "def ep_eq(ep1, ep2, probs1, probs2):\n",
        "    for i in range(len(ep1)):\n",
        "        if(not np.array_equal(ep1[i], ep2[i])):\n",
        "            print(i)\n",
        "            print(ep1[i - 1])\n",
        "            print(probs1[i - 1])\n",
        "            print(probs2[i - 1])\n",
        "            print(ep1[i])\n",
        "            print(ep2[i])\n",
        "            return True\n",
        "    return False"
      ],
      "execution_count": null,
      "outputs": []
    },
    {
      "cell_type": "code",
      "metadata": {
        "id": "VQnBcNcXKuGF",
        "colab_type": "code",
        "colab": {
          "base_uri": "https://localhost:8080/",
          "height": 493
        },
        "outputId": "355bf882-bc8b-4210-a1e3-4156dd156fda"
      },
      "source": [
        "for i in range(1, len(maps), 5):\n",
        "    if ep_eq(maps[i], maps[i + 5], probs[i], probs[i + 5]):\n",
        "        print(i)\n",
        "        break"
      ],
      "execution_count": null,
      "outputs": [
        {
          "output_type": "stream",
          "text": [
            "15\n",
            "[[ 0  0  0  0  0  0  0  0]\n",
            " [ 0  0  2  0  0  0  0  0]\n",
            " [ 0  0  0  0  0  0  0  0]\n",
            " [ 0  0  0  0  0  0  0  2]\n",
            " [ 0  0  0  0 -2  0  0  0]\n",
            " [ 0  0  3  0  0  0  0  2]\n",
            " [-1  3  3  0  0  0  0  0]\n",
            " [ 0  0  0  0  0  0  2  0]]\n",
            "[0.001768828253261745, 8.219834853662178e-05, 0.5774945020675659, 0.41799068450927734, 0.002663808409124613]\n",
            "[0.0016484542284160852, 8.762516517890617e-05, 0.7856460809707642, 0.2102176547050476, 0.0024002348072826862]\n",
            "[[ 0  0  0  0  0  0  0  0]\n",
            " [ 0  0  2  0  0  0  0  0]\n",
            " [ 0  0  0  0  0  0  0  0]\n",
            " [ 0  0  0  0  0  0  0  2]\n",
            " [ 0  0  0  0 -2  0  0  0]\n",
            " [ 0  0  3  0  0  0  0  2]\n",
            " [ 0 -1  3  0  0  0  0  0]\n",
            " [ 0  0  0  0  0  0  2  0]]\n",
            "[[ 0  0  0  0  0  0  0  0]\n",
            " [ 0  0  2  0  0  0  0  0]\n",
            " [ 0  0  0  0  0  0  0  0]\n",
            " [ 0  0  0  0  0  0  0  2]\n",
            " [ 0  0  0  0 -2  0  0  0]\n",
            " [ 0  0  3  0  0  0  0  2]\n",
            " [-1  3  3  0  0  0  0  0]\n",
            " [ 0  0  0  0  0  0  2  0]]\n",
            "1\n"
          ],
          "name": "stdout"
        }
      ]
    },
    {
      "cell_type": "code",
      "metadata": {
        "id": "eRHRQ5A8Nt4M",
        "colab_type": "code",
        "colab": {
          "base_uri": "https://localhost:8080/",
          "height": 493
        },
        "outputId": "f356a593-b757-436c-a593-601a23f55600"
      },
      "source": [
        "i = 12951\n",
        "if ep_eq(maps[i], maps[i + 5], probs[i], probs[i + 5]):\n",
        "    print(i)"
      ],
      "execution_count": null,
      "outputs": [
        {
          "output_type": "stream",
          "text": [
            "15\n",
            "[[ 0  0  0  0  0  0  0  0]\n",
            " [ 0  0  2  0  0  0  0  0]\n",
            " [ 0  0  0  0  0  0  0  0]\n",
            " [ 0  0  0  0  0  0  0  2]\n",
            " [ 0  0  0  0 -2  0  0  0]\n",
            " [ 0  0  3  0  0  0  0  2]\n",
            " [-1  3  3  0  0  0  0  0]\n",
            " [ 0  0  0  0  0  0  2  0]]\n",
            "[0.0011802871013060212, 8.381753286812454e-05, 0.7418560981750488, 0.2538563907146454, 0.0030234232544898987]\n",
            "[0.0013404006604105234, 6.282591493800282e-05, 0.366380512714386, 0.6288208961486816, 0.0033953525125980377]\n",
            "[[ 0  0  0  0  0  0  0  0]\n",
            " [ 0  0  2  0  0  0  0  0]\n",
            " [ 0  0  0  0  0  0  0  0]\n",
            " [ 0  0  0  0  0  0  0  2]\n",
            " [ 0  0  0  0 -2  0  0  0]\n",
            " [ 0  0  3  0  0  0  0  2]\n",
            " [-1  3  3  0  0  0  0  0]\n",
            " [ 0  0  0  0  0  0  2  0]]\n",
            "[[ 0  0  0  0  0  0  0  0]\n",
            " [ 0  0  2  0  0  0  0  0]\n",
            " [ 0  0  0  0  0  0  0  0]\n",
            " [ 0  0  0  0  0  0  0  2]\n",
            " [ 0  0  0  0 -2  0  0  0]\n",
            " [ 0  0  3  0  0  0  0  2]\n",
            " [ 0 -1  3  0  0  0  0  0]\n",
            " [ 0  0  0  0  0  0  2  0]]\n",
            "12951\n"
          ],
          "name": "stdout"
        }
      ]
    },
    {
      "cell_type": "code",
      "metadata": {
        "colab_type": "code",
        "id": "jZPFn9WJPH6x",
        "colab": {}
      },
      "source": [
        "with open(\"/content/drive/My Drive/167010 175200\", 'rb') as f:\n",
        "    data_new = pickle.load(f)"
      ],
      "execution_count": null,
      "outputs": []
    },
    {
      "cell_type": "code",
      "metadata": {
        "colab_type": "code",
        "id": "r75HC4KYPH60",
        "colab": {}
      },
      "source": [
        "maps = []\n",
        "for i in data_new:\n",
        "    maps.append([])\n",
        "    for j in i:\n",
        "        maps[-1].append(np.array(j[:8]))"
      ],
      "execution_count": null,
      "outputs": []
    },
    {
      "cell_type": "code",
      "metadata": {
        "colab_type": "code",
        "id": "afvKfx5jPH62",
        "colab": {}
      },
      "source": [
        "probs = []\n",
        "for i in data_new:\n",
        "    probs.append([])\n",
        "    for j in i:\n",
        "        if(len(j) > 8):\n",
        "            probs[-1].append(j[8])"
      ],
      "execution_count": null,
      "outputs": []
    },
    {
      "cell_type": "code",
      "metadata": {
        "colab_type": "code",
        "id": "5_uPapagPH63",
        "colab": {}
      },
      "source": [
        "def ep_eq(ep1, ep2, probs1, probs2):\n",
        "    for i in range(len(ep1)):\n",
        "        if(not np.array_equal(ep1[i], ep2[i])):\n",
        "            print(i)\n",
        "            print(ep1[i - 1])\n",
        "            print(probs1[i - 1])\n",
        "            print(probs2[i - 1])\n",
        "            print(ep1[i])\n",
        "            print(ep2[i])\n",
        "            return True\n",
        "    return False"
      ],
      "execution_count": null,
      "outputs": []
    },
    {
      "cell_type": "code",
      "metadata": {
        "colab_type": "code",
        "id": "GcQsgu4YPH65",
        "colab": {
          "base_uri": "https://localhost:8080/",
          "height": 493
        },
        "outputId": "9e166995-2e0d-49f5-b30a-12e6632358ab"
      },
      "source": [
        "for i in range(1, len(maps), 5):\n",
        "    if ep_eq(maps[i], maps[i + 5], probs[i], probs[i + 5]):\n",
        "        print(i)\n",
        "        break"
      ],
      "execution_count": null,
      "outputs": [
        {
          "output_type": "stream",
          "text": [
            "8\n",
            "[[ 0  0  0  0 -2  0  0  0]\n",
            " [ 0  0  2  0  0  3  0  0]\n",
            " [ 0  0  0  0  0  0  0  0]\n",
            " [ 0  0  0  0  1  0  0  2]\n",
            " [-1  0  0  0  1  0  0  0]\n",
            " [ 1  0  3  0  0  0  0  2]\n",
            " [ 0  3  3  0  0  0  0  0]\n",
            " [ 0  0  0  0  0  0  2  0]]\n",
            "[0.00035925040720030665, 0.9948552846908569, 0.003678509732708335, 0.0002630271774251014, 0.0008438915247097611]\n",
            "[0.00017862883396446705, 0.00036042023566551507, 0.9992011189460754, 7.438770262524486e-05, 0.00018553374684415758]\n",
            "[[ 0  0  0  0  0  0  0  0]\n",
            " [ 0  0  2  0 -2  3  0  0]\n",
            " [ 0  0  0  0  0  0  0  0]\n",
            " [ 0  0  0  0  1  0  0  2]\n",
            " [-1  0  0  0  1  0  0  0]\n",
            " [ 1  0  3  0  0  0  0  2]\n",
            " [ 0  3  3  0  0  0  0  0]\n",
            " [ 0  0  0  0  0  0  2  0]]\n",
            "[[ 0  0  0 -2  0  0  0  0]\n",
            " [ 0  0  2  0  0  3  0  0]\n",
            " [ 0  0  0  0  0  0  0  0]\n",
            " [ 0  0  0  0  1  0  0  2]\n",
            " [-1  0  0  0  1  0  0  0]\n",
            " [ 1  0  3  0  0  0  0  2]\n",
            " [ 0  3  3  0  0  0  0  0]\n",
            " [ 0  0  0  0  0  0  2  0]]\n",
            "1\n"
          ],
          "name": "stdout"
        }
      ]
    },
    {
      "cell_type": "code",
      "metadata": {
        "colab_type": "code",
        "id": "x8W0sGj5PH67",
        "colab": {
          "base_uri": "https://localhost:8080/",
          "height": 493
        },
        "outputId": "8332dca8-744d-48ad-d398-afbfc47ec6f4"
      },
      "source": [
        "i = 8181\n",
        "if ep_eq(maps[i], maps[i + 5], probs[i], probs[i + 5]):\n",
        "    print(i)"
      ],
      "execution_count": null,
      "outputs": [
        {
          "output_type": "stream",
          "text": [
            "2\n",
            "[[ 0  0  0  0  0  0  0 -2]\n",
            " [-1  0  2  0  0  3  0  0]\n",
            " [ 1  0  0  0  0  0  0  0]\n",
            " [ 0  0  0  0  1  0  0  2]\n",
            " [ 0  0  0  0  1  0  0  0]\n",
            " [ 1  0  3  0  0  0  0  2]\n",
            " [ 0  3  3  0  0  0  0  0]\n",
            " [ 0  0  0  0  0  0  2  0]]\n",
            "[0.14055640995502472, 0.0001501006627222523, 0.013961509801447392, 0.7424530386924744, 0.1028788834810257]\n",
            "[0.13707076013088226, 8.337663166457787e-05, 0.047723449766635895, 0.731708288192749, 0.08341410011053085]\n",
            "[[ 0  0  0  0  0  0  0 -2]\n",
            " [-1  0  2  0  0  3  0  0]\n",
            " [ 1  0  0  0  0  0  0  0]\n",
            " [ 0  0  0  0  1  0  0  2]\n",
            " [ 0  0  0  0  1  0  0  0]\n",
            " [ 1  0  3  0  0  0  0  2]\n",
            " [ 0  3  3  0  0  0  0  0]\n",
            " [ 0  0  0  0  0  0  2  0]]\n",
            "[[ 0  0  0  0  0  0 -2  0]\n",
            " [-1  0  2  0  0  3  0  0]\n",
            " [ 1  0  0  0  0  0  0  0]\n",
            " [ 0  0  0  0  1  0  0  2]\n",
            " [ 0  0  0  0  1  0  0  0]\n",
            " [ 1  0  3  0  0  0  0  2]\n",
            " [ 0  3  3  0  0  0  0  0]\n",
            " [ 0  0  0  0  0  0  2  0]]\n",
            "8181\n"
          ],
          "name": "stdout"
        }
      ]
    },
    {
      "cell_type": "code",
      "metadata": {
        "id": "JCF9adblP6-p",
        "colab_type": "code",
        "colab": {
          "base_uri": "https://localhost:8080/",
          "height": 34
        },
        "outputId": "496242fe-449c-4596-9292-4dce8d1d8256"
      },
      "source": [
        "len(maps)"
      ],
      "execution_count": null,
      "outputs": [
        {
          "output_type": "execute_result",
          "data": {
            "text/plain": [
              "8190"
            ]
          },
          "metadata": {
            "tags": []
          },
          "execution_count": 57
        }
      ]
    },
    {
      "cell_type": "code",
      "metadata": {
        "colab_type": "code",
        "id": "AsyARXitPDHC",
        "colab": {}
      },
      "source": [
        "with open(\"/content/drive/My Drive/167010 175200\", 'rb') as f:\n",
        "    data_new = pickle.load(f)"
      ],
      "execution_count": null,
      "outputs": []
    },
    {
      "cell_type": "code",
      "metadata": {
        "colab_type": "code",
        "id": "AHUkVVhtPDHE",
        "colab": {}
      },
      "source": [
        "maps = []\n",
        "for i in data_new:\n",
        "    maps.append([])\n",
        "    for j in i:\n",
        "        maps[-1].append(np.array(j[:8]))"
      ],
      "execution_count": null,
      "outputs": []
    },
    {
      "cell_type": "code",
      "metadata": {
        "colab_type": "code",
        "id": "nHXUpFzFPDHG",
        "colab": {}
      },
      "source": [
        "probs = []\n",
        "for i in data_new:\n",
        "    probs.append([])\n",
        "    for j in i:\n",
        "        if(len(j) > 8):\n",
        "            probs[-1].append(j[8])"
      ],
      "execution_count": null,
      "outputs": []
    },
    {
      "cell_type": "code",
      "metadata": {
        "colab_type": "code",
        "id": "7J9HV09APDHI",
        "colab": {}
      },
      "source": [
        "def ep_eq(ep1, ep2, probs1, probs2):\n",
        "    for i in range(len(ep1)):\n",
        "        if(not np.array_equal(ep1[i], ep2[i])):\n",
        "            print(i)\n",
        "            print(ep1[i - 1])\n",
        "            print(probs1[i - 1])\n",
        "            print(probs2[i - 1])\n",
        "            print(ep1[i])\n",
        "            print(ep2[i])\n",
        "            return True\n",
        "    return False"
      ],
      "execution_count": null,
      "outputs": []
    },
    {
      "cell_type": "code",
      "metadata": {
        "colab_type": "code",
        "id": "FwBFdHcdPDHK",
        "colab": {
          "base_uri": "https://localhost:8080/",
          "height": 493
        },
        "outputId": "355bf882-bc8b-4210-a1e3-4156dd156fda"
      },
      "source": [
        "for i in range(1, len(maps), 5):\n",
        "    if ep_eq(maps[i], maps[i + 5], probs[i], probs[i + 5]):\n",
        "        print(i)\n",
        "        break"
      ],
      "execution_count": null,
      "outputs": [
        {
          "output_type": "stream",
          "text": [
            "15\n",
            "[[ 0  0  0  0  0  0  0  0]\n",
            " [ 0  0  2  0  0  0  0  0]\n",
            " [ 0  0  0  0  0  0  0  0]\n",
            " [ 0  0  0  0  0  0  0  2]\n",
            " [ 0  0  0  0 -2  0  0  0]\n",
            " [ 0  0  3  0  0  0  0  2]\n",
            " [-1  3  3  0  0  0  0  0]\n",
            " [ 0  0  0  0  0  0  2  0]]\n",
            "[0.001768828253261745, 8.219834853662178e-05, 0.5774945020675659, 0.41799068450927734, 0.002663808409124613]\n",
            "[0.0016484542284160852, 8.762516517890617e-05, 0.7856460809707642, 0.2102176547050476, 0.0024002348072826862]\n",
            "[[ 0  0  0  0  0  0  0  0]\n",
            " [ 0  0  2  0  0  0  0  0]\n",
            " [ 0  0  0  0  0  0  0  0]\n",
            " [ 0  0  0  0  0  0  0  2]\n",
            " [ 0  0  0  0 -2  0  0  0]\n",
            " [ 0  0  3  0  0  0  0  2]\n",
            " [ 0 -1  3  0  0  0  0  0]\n",
            " [ 0  0  0  0  0  0  2  0]]\n",
            "[[ 0  0  0  0  0  0  0  0]\n",
            " [ 0  0  2  0  0  0  0  0]\n",
            " [ 0  0  0  0  0  0  0  0]\n",
            " [ 0  0  0  0  0  0  0  2]\n",
            " [ 0  0  0  0 -2  0  0  0]\n",
            " [ 0  0  3  0  0  0  0  2]\n",
            " [-1  3  3  0  0  0  0  0]\n",
            " [ 0  0  0  0  0  0  2  0]]\n",
            "1\n"
          ],
          "name": "stdout"
        }
      ]
    },
    {
      "cell_type": "code",
      "metadata": {
        "colab_type": "code",
        "id": "eBXmx5z4PDHM",
        "colab": {
          "base_uri": "https://localhost:8080/",
          "height": 493
        },
        "outputId": "f356a593-b757-436c-a593-601a23f55600"
      },
      "source": [
        "i = 12951\n",
        "if ep_eq(maps[i], maps[i + 5], probs[i], probs[i + 5]):\n",
        "    print(i)"
      ],
      "execution_count": null,
      "outputs": [
        {
          "output_type": "stream",
          "text": [
            "15\n",
            "[[ 0  0  0  0  0  0  0  0]\n",
            " [ 0  0  2  0  0  0  0  0]\n",
            " [ 0  0  0  0  0  0  0  0]\n",
            " [ 0  0  0  0  0  0  0  2]\n",
            " [ 0  0  0  0 -2  0  0  0]\n",
            " [ 0  0  3  0  0  0  0  2]\n",
            " [-1  3  3  0  0  0  0  0]\n",
            " [ 0  0  0  0  0  0  2  0]]\n",
            "[0.0011802871013060212, 8.381753286812454e-05, 0.7418560981750488, 0.2538563907146454, 0.0030234232544898987]\n",
            "[0.0013404006604105234, 6.282591493800282e-05, 0.366380512714386, 0.6288208961486816, 0.0033953525125980377]\n",
            "[[ 0  0  0  0  0  0  0  0]\n",
            " [ 0  0  2  0  0  0  0  0]\n",
            " [ 0  0  0  0  0  0  0  0]\n",
            " [ 0  0  0  0  0  0  0  2]\n",
            " [ 0  0  0  0 -2  0  0  0]\n",
            " [ 0  0  3  0  0  0  0  2]\n",
            " [-1  3  3  0  0  0  0  0]\n",
            " [ 0  0  0  0  0  0  2  0]]\n",
            "[[ 0  0  0  0  0  0  0  0]\n",
            " [ 0  0  2  0  0  0  0  0]\n",
            " [ 0  0  0  0  0  0  0  0]\n",
            " [ 0  0  0  0  0  0  0  2]\n",
            " [ 0  0  0  0 -2  0  0  0]\n",
            " [ 0  0  3  0  0  0  0  2]\n",
            " [ 0 -1  3  0  0  0  0  0]\n",
            " [ 0  0  0  0  0  0  2  0]]\n",
            "12951\n"
          ],
          "name": "stdout"
        }
      ]
    },
    {
      "cell_type": "code",
      "metadata": {
        "colab_type": "code",
        "id": "DQC-zCiWPBp4",
        "colab": {}
      },
      "source": [
        "with open(\"/content/drive/My Drive/167010 175200\", 'rb') as f:\n",
        "    data_new = pickle.load(f)"
      ],
      "execution_count": 7,
      "outputs": []
    },
    {
      "cell_type": "code",
      "metadata": {
        "colab_type": "code",
        "id": "_dhyPPBsPCVV",
        "colab": {}
      },
      "source": [
        "with open(\"/content/drive/My Drive/167010 175200\", 'rb') as f:\n",
        "    data_new = pickle.load(f)"
      ],
      "execution_count": null,
      "outputs": []
    },
    {
      "cell_type": "code",
      "metadata": {
        "colab_type": "code",
        "id": "OJuSafa3PCVX",
        "colab": {
          "base_uri": "https://localhost:8080/",
          "height": 197
        },
        "outputId": "4057668a-b457-41c3-9c80-f1c6540b82d3"
      },
      "source": [
        "maps = []\n",
        "for i in data_new:\n",
        "    maps.append([])\n",
        "    for j in i:\n",
        "        maps[-1].append(np.array(j[:8]))"
      ],
      "execution_count": 8,
      "outputs": [
        {
          "output_type": "error",
          "ename": "NameError",
          "evalue": "ignored",
          "traceback": [
            "\u001b[0;31m---------------------------------------------------------------------------\u001b[0m",
            "\u001b[0;31mNameError\u001b[0m                                 Traceback (most recent call last)",
            "\u001b[0;32m<ipython-input-8-fb754e83610c>\u001b[0m in \u001b[0;36m<module>\u001b[0;34m()\u001b[0m\n\u001b[1;32m      3\u001b[0m     \u001b[0mmaps\u001b[0m\u001b[0;34m.\u001b[0m\u001b[0mappend\u001b[0m\u001b[0;34m(\u001b[0m\u001b[0;34m[\u001b[0m\u001b[0;34m]\u001b[0m\u001b[0;34m)\u001b[0m\u001b[0;34m\u001b[0m\u001b[0;34m\u001b[0m\u001b[0m\n\u001b[1;32m      4\u001b[0m     \u001b[0;32mfor\u001b[0m \u001b[0mj\u001b[0m \u001b[0;32min\u001b[0m \u001b[0mi\u001b[0m\u001b[0;34m:\u001b[0m\u001b[0;34m\u001b[0m\u001b[0;34m\u001b[0m\u001b[0m\n\u001b[0;32m----> 5\u001b[0;31m         \u001b[0mmaps\u001b[0m\u001b[0;34m[\u001b[0m\u001b[0;34m-\u001b[0m\u001b[0;36m1\u001b[0m\u001b[0;34m]\u001b[0m\u001b[0;34m.\u001b[0m\u001b[0mappend\u001b[0m\u001b[0;34m(\u001b[0m\u001b[0mnp\u001b[0m\u001b[0;34m.\u001b[0m\u001b[0marray\u001b[0m\u001b[0;34m(\u001b[0m\u001b[0mj\u001b[0m\u001b[0;34m[\u001b[0m\u001b[0;34m:\u001b[0m\u001b[0;36m8\u001b[0m\u001b[0;34m]\u001b[0m\u001b[0;34m)\u001b[0m\u001b[0;34m)\u001b[0m\u001b[0;34m\u001b[0m\u001b[0;34m\u001b[0m\u001b[0m\n\u001b[0m",
            "\u001b[0;31mNameError\u001b[0m: name 'np' is not defined"
          ]
        }
      ]
    },
    {
      "cell_type": "code",
      "metadata": {
        "colab_type": "code",
        "id": "wWz968RtPCVZ",
        "colab": {}
      },
      "source": [
        "probs = []\n",
        "for i in data_new:\n",
        "    probs.append([])\n",
        "    for j in i:\n",
        "        if(len(j) > 8):\n",
        "            probs[-1].append(j[8])"
      ],
      "execution_count": 62,
      "outputs": []
    },
    {
      "cell_type": "code",
      "metadata": {
        "colab_type": "code",
        "id": "CcjrFiBLPCVb",
        "colab": {}
      },
      "source": [
        "def ep_eq(ep1, ep2, probs1, probs2):\n",
        "    for i in range(len(ep1)):\n",
        "        if(not np.array_equal(ep1[i], ep2[i])):\n",
        "            print(i)\n",
        "            print(ep1[i - 1])\n",
        "            print(probs1[i - 1])\n",
        "            print(probs2[i - 1])\n",
        "            print(ep1[i])\n",
        "            print(ep2[i])\n",
        "            return True\n",
        "    return False"
      ],
      "execution_count": null,
      "outputs": []
    },
    {
      "cell_type": "code",
      "metadata": {
        "colab_type": "code",
        "id": "-WnIHpi5PCVf",
        "colab": {
          "base_uri": "https://localhost:8080/",
          "height": 493
        },
        "outputId": "355bf882-bc8b-4210-a1e3-4156dd156fda"
      },
      "source": [
        "for i in range(1, len(maps), 5):\n",
        "    if ep_eq(maps[i], maps[i + 5], probs[i], probs[i + 5]):\n",
        "        print(i)\n",
        "        break"
      ],
      "execution_count": null,
      "outputs": [
        {
          "output_type": "stream",
          "text": [
            "15\n",
            "[[ 0  0  0  0  0  0  0  0]\n",
            " [ 0  0  2  0  0  0  0  0]\n",
            " [ 0  0  0  0  0  0  0  0]\n",
            " [ 0  0  0  0  0  0  0  2]\n",
            " [ 0  0  0  0 -2  0  0  0]\n",
            " [ 0  0  3  0  0  0  0  2]\n",
            " [-1  3  3  0  0  0  0  0]\n",
            " [ 0  0  0  0  0  0  2  0]]\n",
            "[0.001768828253261745, 8.219834853662178e-05, 0.5774945020675659, 0.41799068450927734, 0.002663808409124613]\n",
            "[0.0016484542284160852, 8.762516517890617e-05, 0.7856460809707642, 0.2102176547050476, 0.0024002348072826862]\n",
            "[[ 0  0  0  0  0  0  0  0]\n",
            " [ 0  0  2  0  0  0  0  0]\n",
            " [ 0  0  0  0  0  0  0  0]\n",
            " [ 0  0  0  0  0  0  0  2]\n",
            " [ 0  0  0  0 -2  0  0  0]\n",
            " [ 0  0  3  0  0  0  0  2]\n",
            " [ 0 -1  3  0  0  0  0  0]\n",
            " [ 0  0  0  0  0  0  2  0]]\n",
            "[[ 0  0  0  0  0  0  0  0]\n",
            " [ 0  0  2  0  0  0  0  0]\n",
            " [ 0  0  0  0  0  0  0  0]\n",
            " [ 0  0  0  0  0  0  0  2]\n",
            " [ 0  0  0  0 -2  0  0  0]\n",
            " [ 0  0  3  0  0  0  0  2]\n",
            " [-1  3  3  0  0  0  0  0]\n",
            " [ 0  0  0  0  0  0  2  0]]\n",
            "1\n"
          ],
          "name": "stdout"
        }
      ]
    },
    {
      "cell_type": "code",
      "metadata": {
        "colab_type": "code",
        "id": "Urq33TgJPCVh",
        "colab": {
          "base_uri": "https://localhost:8080/",
          "height": 493
        },
        "outputId": "f356a593-b757-436c-a593-601a23f55600"
      },
      "source": [
        "i = 12951\n",
        "if ep_eq(maps[i], maps[i + 5], probs[i], probs[i + 5]):\n",
        "    print(i)"
      ],
      "execution_count": null,
      "outputs": [
        {
          "output_type": "stream",
          "text": [
            "15\n",
            "[[ 0  0  0  0  0  0  0  0]\n",
            " [ 0  0  2  0  0  0  0  0]\n",
            " [ 0  0  0  0  0  0  0  0]\n",
            " [ 0  0  0  0  0  0  0  2]\n",
            " [ 0  0  0  0 -2  0  0  0]\n",
            " [ 0  0  3  0  0  0  0  2]\n",
            " [-1  3  3  0  0  0  0  0]\n",
            " [ 0  0  0  0  0  0  2  0]]\n",
            "[0.0011802871013060212, 8.381753286812454e-05, 0.7418560981750488, 0.2538563907146454, 0.0030234232544898987]\n",
            "[0.0013404006604105234, 6.282591493800282e-05, 0.366380512714386, 0.6288208961486816, 0.0033953525125980377]\n",
            "[[ 0  0  0  0  0  0  0  0]\n",
            " [ 0  0  2  0  0  0  0  0]\n",
            " [ 0  0  0  0  0  0  0  0]\n",
            " [ 0  0  0  0  0  0  0  2]\n",
            " [ 0  0  0  0 -2  0  0  0]\n",
            " [ 0  0  3  0  0  0  0  2]\n",
            " [-1  3  3  0  0  0  0  0]\n",
            " [ 0  0  0  0  0  0  2  0]]\n",
            "[[ 0  0  0  0  0  0  0  0]\n",
            " [ 0  0  2  0  0  0  0  0]\n",
            " [ 0  0  0  0  0  0  0  0]\n",
            " [ 0  0  0  0  0  0  0  2]\n",
            " [ 0  0  0  0 -2  0  0  0]\n",
            " [ 0  0  3  0  0  0  0  2]\n",
            " [ 0 -1  3  0  0  0  0  0]\n",
            " [ 0  0  0  0  0  0  2  0]]\n",
            "12951\n"
          ],
          "name": "stdout"
        }
      ]
    },
    {
      "cell_type": "code",
      "metadata": {
        "colab_type": "code",
        "id": "9RkVkLoCPBp9",
        "colab": {}
      },
      "source": [
        "maps = []\n",
        "for i in data_new:\n",
        "    maps.append([])\n",
        "    for j in i:\n",
        "        maps[-1].append(np.array(j[:8]))"
      ],
      "execution_count": null,
      "outputs": []
    },
    {
      "cell_type": "code",
      "metadata": {
        "colab_type": "code",
        "id": "9Jod2jumPBqA",
        "colab": {}
      },
      "source": [
        "probs = []\n",
        "for i in data_new:\n",
        "    probs.append([])\n",
        "    for j in i:\n",
        "        if(len(j) > 8):\n",
        "            probs[-1].append(j[8])"
      ],
      "execution_count": null,
      "outputs": []
    },
    {
      "cell_type": "code",
      "metadata": {
        "colab_type": "code",
        "id": "0QsqsGfLPBqC",
        "colab": {}
      },
      "source": [
        "def ep_eq(ep1, ep2, probs1, probs2):\n",
        "    for i in range(len(ep1)):\n",
        "        if(not np.array_equal(ep1[i], ep2[i])):\n",
        "            print(i)\n",
        "            print(ep1[i - 1])\n",
        "            print(probs1[i - 1])\n",
        "            print(probs2[i - 1])\n",
        "            print(ep1[i])\n",
        "            print(ep2[i])\n",
        "            return True\n",
        "    return False"
      ],
      "execution_count": null,
      "outputs": []
    },
    {
      "cell_type": "code",
      "metadata": {
        "colab_type": "code",
        "id": "9uzQ23WzPBqE",
        "colab": {
          "base_uri": "https://localhost:8080/",
          "height": 493
        },
        "outputId": "355bf882-bc8b-4210-a1e3-4156dd156fda"
      },
      "source": [
        "for i in range(1, len(maps), 5):\n",
        "    if ep_eq(maps[i], maps[i + 5], probs[i], probs[i + 5]):\n",
        "        print(i)\n",
        "        break"
      ],
      "execution_count": null,
      "outputs": [
        {
          "output_type": "stream",
          "text": [
            "15\n",
            "[[ 0  0  0  0  0  0  0  0]\n",
            " [ 0  0  2  0  0  0  0  0]\n",
            " [ 0  0  0  0  0  0  0  0]\n",
            " [ 0  0  0  0  0  0  0  2]\n",
            " [ 0  0  0  0 -2  0  0  0]\n",
            " [ 0  0  3  0  0  0  0  2]\n",
            " [-1  3  3  0  0  0  0  0]\n",
            " [ 0  0  0  0  0  0  2  0]]\n",
            "[0.001768828253261745, 8.219834853662178e-05, 0.5774945020675659, 0.41799068450927734, 0.002663808409124613]\n",
            "[0.0016484542284160852, 8.762516517890617e-05, 0.7856460809707642, 0.2102176547050476, 0.0024002348072826862]\n",
            "[[ 0  0  0  0  0  0  0  0]\n",
            " [ 0  0  2  0  0  0  0  0]\n",
            " [ 0  0  0  0  0  0  0  0]\n",
            " [ 0  0  0  0  0  0  0  2]\n",
            " [ 0  0  0  0 -2  0  0  0]\n",
            " [ 0  0  3  0  0  0  0  2]\n",
            " [ 0 -1  3  0  0  0  0  0]\n",
            " [ 0  0  0  0  0  0  2  0]]\n",
            "[[ 0  0  0  0  0  0  0  0]\n",
            " [ 0  0  2  0  0  0  0  0]\n",
            " [ 0  0  0  0  0  0  0  0]\n",
            " [ 0  0  0  0  0  0  0  2]\n",
            " [ 0  0  0  0 -2  0  0  0]\n",
            " [ 0  0  3  0  0  0  0  2]\n",
            " [-1  3  3  0  0  0  0  0]\n",
            " [ 0  0  0  0  0  0  2  0]]\n",
            "1\n"
          ],
          "name": "stdout"
        }
      ]
    },
    {
      "cell_type": "code",
      "metadata": {
        "colab_type": "code",
        "id": "WcGU05ocPBqI",
        "colab": {
          "base_uri": "https://localhost:8080/",
          "height": 493
        },
        "outputId": "f356a593-b757-436c-a593-601a23f55600"
      },
      "source": [
        "i = 12951\n",
        "if ep_eq(maps[i], maps[i + 5], probs[i], probs[i + 5]):\n",
        "    print(i)"
      ],
      "execution_count": null,
      "outputs": [
        {
          "output_type": "stream",
          "text": [
            "15\n",
            "[[ 0  0  0  0  0  0  0  0]\n",
            " [ 0  0  2  0  0  0  0  0]\n",
            " [ 0  0  0  0  0  0  0  0]\n",
            " [ 0  0  0  0  0  0  0  2]\n",
            " [ 0  0  0  0 -2  0  0  0]\n",
            " [ 0  0  3  0  0  0  0  2]\n",
            " [-1  3  3  0  0  0  0  0]\n",
            " [ 0  0  0  0  0  0  2  0]]\n",
            "[0.0011802871013060212, 8.381753286812454e-05, 0.7418560981750488, 0.2538563907146454, 0.0030234232544898987]\n",
            "[0.0013404006604105234, 6.282591493800282e-05, 0.366380512714386, 0.6288208961486816, 0.0033953525125980377]\n",
            "[[ 0  0  0  0  0  0  0  0]\n",
            " [ 0  0  2  0  0  0  0  0]\n",
            " [ 0  0  0  0  0  0  0  0]\n",
            " [ 0  0  0  0  0  0  0  2]\n",
            " [ 0  0  0  0 -2  0  0  0]\n",
            " [ 0  0  3  0  0  0  0  2]\n",
            " [-1  3  3  0  0  0  0  0]\n",
            " [ 0  0  0  0  0  0  2  0]]\n",
            "[[ 0  0  0  0  0  0  0  0]\n",
            " [ 0  0  2  0  0  0  0  0]\n",
            " [ 0  0  0  0  0  0  0  0]\n",
            " [ 0  0  0  0  0  0  0  2]\n",
            " [ 0  0  0  0 -2  0  0  0]\n",
            " [ 0  0  3  0  0  0  0  2]\n",
            " [ 0 -1  3  0  0  0  0  0]\n",
            " [ 0  0  0  0  0  0  2  0]]\n",
            "12951\n"
          ],
          "name": "stdout"
        }
      ]
    },
    {
      "cell_type": "code",
      "metadata": {
        "id": "LmXcCrZiOAOc",
        "colab_type": "code",
        "colab": {
          "base_uri": "https://localhost:8080/",
          "height": 34
        },
        "outputId": "b0668ce8-635b-4c77-cb2d-36791dca4b14"
      },
      "source": [
        "len(maps)12956"
      ],
      "execution_count": null,
      "outputs": [
        {
          "output_type": "execute_result",
          "data": {
            "text/plain": [
              "12960"
            ]
          },
          "metadata": {
            "tags": []
          },
          "execution_count": 44
        }
      ]
    },
    {
      "cell_type": "code",
      "metadata": {
        "id": "-UziUYej_-W-",
        "colab_type": "code",
        "colab": {}
      },
      "source": [
        "import numpy as np"
      ],
      "execution_count": null,
      "outputs": []
    },
    {
      "cell_type": "code",
      "metadata": {
        "id": "64__LsHd_5tI",
        "colab_type": "code",
        "colab": {
          "base_uri": "https://localhost:8080/",
          "height": 153
        },
        "outputId": "d22f3382-99e8-4b3b-8489-78a0672be15e"
      },
      "source": [
        "a = np.zeros((8, 8))\n",
        "a[0][0] = 1\n",
        "a[0][1] = 2\n",
        "a[1][0] = 3\n",
        "a[1][1] = 4\n",
        "a"
      ],
      "execution_count": null,
      "outputs": [
        {
          "output_type": "execute_result",
          "data": {
            "text/plain": [
              "array([[1., 2., 0., 0., 0., 0., 0., 0.],\n",
              "       [3., 4., 0., 0., 0., 0., 0., 0.],\n",
              "       [0., 0., 0., 0., 0., 0., 0., 0.],\n",
              "       [0., 0., 0., 0., 0., 0., 0., 0.],\n",
              "       [0., 0., 0., 0., 0., 0., 0., 0.],\n",
              "       [0., 0., 0., 0., 0., 0., 0., 0.],\n",
              "       [0., 0., 0., 0., 0., 0., 0., 0.],\n",
              "       [0., 0., 0., 0., 0., 0., 0., 0.]])"
            ]
          },
          "metadata": {
            "tags": []
          },
          "execution_count": 3
        }
      ]
    },
    {
      "cell_type": "code",
      "metadata": {
        "id": "2WIA2tg1JNdH",
        "colab_type": "code",
        "colab": {
          "base_uri": "https://localhost:8080/",
          "height": 34
        },
        "outputId": "455e8540-185b-42a0-91eb-ee2a336e4b0f"
      },
      "source": [
        "a = np.array([[1, 2], [3, 4]])\n",
        "b = np.array([[1, 2], [3, 4]])\n",
        "np.array_equal(a, b)"
      ],
      "execution_count": null,
      "outputs": [
        {
          "output_type": "execute_result",
          "data": {
            "text/plain": [
              "True"
            ]
          },
          "metadata": {
            "tags": []
          },
          "execution_count": 7
        }
      ]
    },
    {
      "cell_type": "code",
      "metadata": {
        "id": "P0NoxllwR802",
        "colab_type": "code",
        "colab": {}
      },
      "source": [
        "import matplotlib.pyplot as plt\n"
      ],
      "execution_count": null,
      "outputs": []
    },
    {
      "cell_type": "code",
      "metadata": {
        "id": "dqqS_1I8SARx",
        "colab_type": "code",
        "colab": {}
      },
      "source": [
        "def draw(map, probs1, probs2, i1):\n",
        "    fig = plt.figure(figsize=(12, 8))\n",
        "    axs = [0, 0, 0]\n",
        "    axs[0] = plt.subplot2grid((1, 3), (0, 0), colspan=2)\n",
        "    axs[0].set_xlim(-0.5, 7.5)\n",
        "    axs[0].set_ylim(-0.5, 7.5)\n",
        "    axs[1] = plt.subplot2grid((2, 3), (0, 2))\n",
        "    axs[1].set_ylim(0, 1)\n",
        "    axs[2] = plt.subplot2grid((2, 3), (1, 2))\n",
        "    axs[2].set_ylim(0, 1)\n",
        "    for i in range(8):\n",
        "        for j in range(8):\n",
        "            if map[i][j] == 1:\n",
        "                axs[0].scatter(i, j, marker='^', c='red')\n",
        "    for i in range(8):\n",
        "        for j in range(8):\n",
        "            if map[i][j] == -2:\n",
        "                axs[0].scatter(i, j, marker='^', c='green')\n",
        "    for i in range(8):\n",
        "        for j in range(8):\n",
        "            if map[i][j] == 1:\n",
        "                axs[0].scatter(i, j, marker='o', c='red')\n",
        "    for i in range(8):\n",
        "        for j in range(8):\n",
        "            if map[i][j] == 2:\n",
        "                axs[0].scatter(i, j, marker='o', c='green')\n",
        "    for i in range(8):\n",
        "        for j in range(8):\n",
        "            if map[i][j] == 3:\n",
        "                axs[0].scatter(i, j, marker='o', c='blue')\n",
        "\n",
        "    axs[1].bar([0, 1, 2, 3, 4], probs1)\n",
        "    axs[2].bar([0, 1, 2, 3, 4], probs2)\n",
        "    fig.savefig('/' + str(i1) + '.png')\n",
        "    fig.clf()\n",
        "    "
      ],
      "execution_count": 16,
      "outputs": []
    },
    {
      "cell_type": "code",
      "metadata": {
        "id": "Ad-Q9d_CycOO",
        "colab_type": "code",
        "colab": {
          "base_uri": "https://localhost:8080/",
          "height": 585
        },
        "outputId": "e08bcac4-ab1a-43ec-f6c8-eb9c7a3d8343"
      },
      "source": [
        "import numpy as np\n",
        "import matplotlib.pyplot as plt\n",
        "\n",
        "# generate some data\n",
        "x = np.arange(0, 10, 0.2)\n",
        "y = np.sin(x)\n",
        "\n",
        "# plot it\n",
        "fig = plt.figure(figsize=(16, 8))\n",
        "ax0 = plt.subplot2grid((1, 5), (0, 0), colspan=2)\n",
        "ax0.plot(x, y)\n",
        "ax1 = plt.subplot2grid((4, 5), (0, 2))\n",
        "ax1.plot(y, x)\n",
        "ax2 = plt.subplot2grid((4, 5), (1, 2))\n",
        "ax2.plot(x, y)\n",
        "ax3 = plt.subplot2grid((4, 5), (2, 2))\n",
        "ax3.plot(x, y)\n",
        "ax4 = plt.subplot2grid((4, 5), (3, 2))\n",
        "ax4.plot(x, y)\n",
        "\n",
        "plt.tight_layout()\n",
        "plt.savefig('/grid_figure.pdf')"
      ],
      "execution_count": 82,
      "outputs": [
        {
          "output_type": "display_data",
          "data": {
            "image/png": "[encoded data removed]",
            "text/plain": [
              "<Figure size 1152x576 with 5 Axes>"
            ]
          },
          "metadata": {
            "tags": [],
            "needs_background": "light"
          }
        }
      ]
    },
    {
      "cell_type": "code",
      "metadata": {
        "id": "eKhI5O1cdt3G",
        "colab_type": "code",
        "colab": {
          "base_uri": "https://localhost:8080/",
          "height": 428
        },
        "outputId": "da2c2ef6-0c2a-4bad-b4fb-992563fc044e"
      },
      "source": [
        "for i in range(21):\n",
        "    if i != 20:\n",
        "        draw(maps[0][i], probs[0][i // 2 * 2], probs[0][i // 2 * 2 + 1], i)\n",
        "    else:\n",
        "        draw(maps[0][i], probs[0][18], probs[0][19], i)"
      ],
      "execution_count": 17,
      "outputs": [
        {
          "output_type": "stream",
          "text": [
            "/usr/local/lib/python3.6/dist-packages/ipykernel_launcher.py:2: RuntimeWarning: More than 20 figures have been opened. Figures created through the pyplot interface (`matplotlib.pyplot.figure`) are retained until explicitly closed and may consume too much memory. (To control this warning, see the rcParam `figure.max_open_warning`).\n",
            "  \n"
          ],
          "name": "stderr"
        },
        {
          "output_type": "display_data",
          "data": {
            "text/plain": [
              "<Figure size 864x576 with 0 Axes>"
            ]
          },
          "metadata": {
            "tags": []
          }
        },
        {
          "output_type": "display_data",
          "data": {
            "text/plain": [
              "<Figure size 864x576 with 0 Axes>"
            ]
          },
          "metadata": {
            "tags": []
          }
        },
        {
          "output_type": "display_data",
          "data": {
            "text/plain": [
              "<Figure size 864x576 with 0 Axes>"
            ]
          },
          "metadata": {
            "tags": []
          }
        },
        {
          "output_type": "display_data",
          "data": {
            "text/plain": [
              "<Figure size 864x576 with 0 Axes>"
            ]
          },
          "metadata": {
            "tags": []
          }
        },
        {
          "output_type": "display_data",
          "data": {
            "text/plain": [
              "<Figure size 864x576 with 0 Axes>"
            ]
          },
          "metadata": {
            "tags": []
          }
        },
        {
          "output_type": "display_data",
          "data": {
            "text/plain": [
              "<Figure size 864x576 with 0 Axes>"
            ]
          },
          "metadata": {
            "tags": []
          }
        },
        {
          "output_type": "display_data",
          "data": {
            "text/plain": [
              "<Figure size 864x576 with 0 Axes>"
            ]
          },
          "metadata": {
            "tags": []
          }
        },
        {
          "output_type": "display_data",
          "data": {
            "text/plain": [
              "<Figure size 864x576 with 0 Axes>"
            ]
          },
          "metadata": {
            "tags": []
          }
        },
        {
          "output_type": "display_data",
          "data": {
            "text/plain": [
              "<Figure size 864x576 with 0 Axes>"
            ]
          },
          "metadata": {
            "tags": []
          }
        },
        {
          "output_type": "display_data",
          "data": {
            "text/plain": [
              "<Figure size 864x576 with 0 Axes>"
            ]
          },
          "metadata": {
            "tags": []
          }
        },
        {
          "output_type": "display_data",
          "data": {
            "text/plain": [
              "<Figure size 864x576 with 0 Axes>"
            ]
          },
          "metadata": {
            "tags": []
          }
        },
        {
          "output_type": "display_data",
          "data": {
            "text/plain": [
              "<Figure size 864x576 with 0 Axes>"
            ]
          },
          "metadata": {
            "tags": []
          }
        },
        {
          "output_type": "display_data",
          "data": {
            "text/plain": [
              "<Figure size 864x576 with 0 Axes>"
            ]
          },
          "metadata": {
            "tags": []
          }
        },
        {
          "output_type": "display_data",
          "data": {
            "text/plain": [
              "<Figure size 864x576 with 0 Axes>"
            ]
          },
          "metadata": {
            "tags": []
          }
        },
        {
          "output_type": "display_data",
          "data": {
            "text/plain": [
              "<Figure size 864x576 with 0 Axes>"
            ]
          },
          "metadata": {
            "tags": []
          }
        },
        {
          "output_type": "display_data",
          "data": {
            "text/plain": [
              "<Figure size 864x576 with 0 Axes>"
            ]
          },
          "metadata": {
            "tags": []
          }
        },
        {
          "output_type": "display_data",
          "data": {
            "text/plain": [
              "<Figure size 864x576 with 0 Axes>"
            ]
          },
          "metadata": {
            "tags": []
          }
        },
        {
          "output_type": "display_data",
          "data": {
            "text/plain": [
              "<Figure size 864x576 with 0 Axes>"
            ]
          },
          "metadata": {
            "tags": []
          }
        },
        {
          "output_type": "display_data",
          "data": {
            "text/plain": [
              "<Figure size 864x576 with 0 Axes>"
            ]
          },
          "metadata": {
            "tags": []
          }
        },
        {
          "output_type": "display_data",
          "data": {
            "text/plain": [
              "<Figure size 864x576 with 0 Axes>"
            ]
          },
          "metadata": {
            "tags": []
          }
        },
        {
          "output_type": "display_data",
          "data": {
            "text/plain": [
              "<Figure size 864x576 with 0 Axes>"
            ]
          },
          "metadata": {
            "tags": []
          }
        }
      ]
    },
    {
      "cell_type": "code",
      "metadata": {
        "id": "4BusZsvOwQsZ",
        "colab_type": "code",
        "colab": {}
      },
      "source": [
        ""
      ],
      "execution_count": null,
      "outputs": []
    },
    {
      "cell_type": "code",
      "metadata": {
        "id": "eNZHy84Dv1rj",
        "colab_type": "code",
        "colab": {
          "base_uri": "https://localhost:8080/",
          "height": 34
        },
        "outputId": "fb83b541-bfc6-4564-9491-12d97aae187e"
      },
      "source": [
        "draw(maps[0][0], probs[0][0], probs[0][1], 0)"
      ],
      "execution_count": 57,
      "outputs": [
        {
          "output_type": "display_data",
          "data": {
            "text/plain": [
              "<Figure size 23040x17280 with 0 Axes>"
            ]
          },
          "metadata": {
            "tags": []
          }
        }
      ]
    },
    {
      "cell_type": "code",
      "metadata": {
        "id": "ctTD_sxJSqCJ",
        "colab_type": "code",
        "colab": {
          "base_uri": "https://localhost:8080/",
          "height": 265
        },
        "outputId": "eea5d345-edf0-4925-97e3-925702ec8eb0"
      },
      "source": [
        "ims = []\n",
        "\n",
        "ims.append(draw(maps[0][0]))"
      ],
      "execution_count": null,
      "outputs": [
        {
          "output_type": "display_data",
          "data": {
            "image/png": "[encoded data removed]",
            "text/plain": [
              "<Figure size 432x288 with 1 Axes>"
            ]
          },
          "metadata": {
            "tags": [],
            "needs_background": "light"
          }
        }
      ]
    },
    {
      "cell_type": "code",
      "metadata": {
        "id": "mQTIcKGdT4Ys",
        "colab_type": "code",
        "colab": {}
      },
      "source": [
        "def draw_ep(index):\n",
        "    fig = plt.figure()\n",
        "\n",
        "\n",
        "    ims = []\n",
        "    i1 = 0\n",
        "    for i in maps[index]:\n",
        "        ims.append(draw(i))\n",
        "        #plt.savefig('/' + str(i1) + '.png')\n",
        "        i1 += 1\n",
        "    #ani = animation.ArtistAnimation(fig, ims, interval=50, blit=True, repeat_delay=1000)\n",
        "    #ani.save('/dynamic_images.mp4')"
      ],
      "execution_count": 19,
      "outputs": []
    },
    {
      "cell_type": "code",
      "metadata": {
        "id": "xoxLmcdPcM0y",
        "colab_type": "code",
        "colab": {
          "base_uri": "https://localhost:8080/",
          "height": 571
        },
        "outputId": "29fbe2dc-264f-4a24-d406-e39a45705bbf"
      },
      "source": [
        "draw(maps[0][0])"
      ],
      "execution_count": null,
      "outputs": [
        {
          "output_type": "error",
          "ename": "FileNotFoundError",
          "evalue": "ignored",
          "traceback": [
            "\u001b[0;31m---------------------------------------------------------------------------\u001b[0m",
            "\u001b[0;31mFileNotFoundError\u001b[0m                         Traceback (most recent call last)",
            "\u001b[0;32m<ipython-input-131-97c536942304>\u001b[0m in \u001b[0;36m<module>\u001b[0;34m()\u001b[0m\n\u001b[0;32m----> 1\u001b[0;31m \u001b[0mdraw\u001b[0m\u001b[0;34m(\u001b[0m\u001b[0mmaps\u001b[0m\u001b[0;34m[\u001b[0m\u001b[0;36m0\u001b[0m\u001b[0;34m]\u001b[0m\u001b[0;34m[\u001b[0m\u001b[0;36m0\u001b[0m\u001b[0;34m]\u001b[0m\u001b[0;34m)\u001b[0m\u001b[0;34m\u001b[0m\u001b[0;34m\u001b[0m\u001b[0m\n\u001b[0m",
            "\u001b[0;32m<ipython-input-130-63447ad5c2e0>\u001b[0m in \u001b[0;36mdraw\u001b[0;34m(map)\u001b[0m\n\u001b[1;32m     23\u001b[0m                 \u001b[0mplt\u001b[0m\u001b[0;34m.\u001b[0m\u001b[0mscatter\u001b[0m\u001b[0;34m(\u001b[0m\u001b[0mi\u001b[0m\u001b[0;34m,\u001b[0m \u001b[0mj\u001b[0m\u001b[0;34m,\u001b[0m \u001b[0mmarker\u001b[0m\u001b[0;34m=\u001b[0m\u001b[0;34m'o'\u001b[0m\u001b[0;34m,\u001b[0m \u001b[0mc\u001b[0m\u001b[0;34m=\u001b[0m\u001b[0;34m'blue'\u001b[0m\u001b[0;34m)\u001b[0m\u001b[0;34m\u001b[0m\u001b[0;34m\u001b[0m\u001b[0m\n\u001b[1;32m     24\u001b[0m \u001b[0;34m\u001b[0m\u001b[0m\n\u001b[0;32m---> 25\u001b[0;31m     \u001b[0mplt\u001b[0m\u001b[0;34m.\u001b[0m\u001b[0msavefig\u001b[0m\u001b[0;34m(\u001b[0m\u001b[0;34m'/imgs/image.png'\u001b[0m\u001b[0;34m)\u001b[0m\u001b[0;34m\u001b[0m\u001b[0;34m\u001b[0m\u001b[0m\n\u001b[0m\u001b[1;32m     26\u001b[0m \u001b[0;34m\u001b[0m\u001b[0m\n",
            "\u001b[0;32m/usr/local/lib/python3.6/dist-packages/matplotlib/pyplot.py\u001b[0m in \u001b[0;36msavefig\u001b[0;34m(*args, **kwargs)\u001b[0m\n\u001b[1;32m    721\u001b[0m \u001b[0;32mdef\u001b[0m \u001b[0msavefig\u001b[0m\u001b[0;34m(\u001b[0m\u001b[0;34m*\u001b[0m\u001b[0margs\u001b[0m\u001b[0;34m,\u001b[0m \u001b[0;34m**\u001b[0m\u001b[0mkwargs\u001b[0m\u001b[0;34m)\u001b[0m\u001b[0;34m:\u001b[0m\u001b[0;34m\u001b[0m\u001b[0;34m\u001b[0m\u001b[0m\n\u001b[1;32m    722\u001b[0m     \u001b[0mfig\u001b[0m \u001b[0;34m=\u001b[0m \u001b[0mgcf\u001b[0m\u001b[0;34m(\u001b[0m\u001b[0;34m)\u001b[0m\u001b[0;34m\u001b[0m\u001b[0;34m\u001b[0m\u001b[0m\n\u001b[0;32m--> 723\u001b[0;31m     \u001b[0mres\u001b[0m \u001b[0;34m=\u001b[0m \u001b[0mfig\u001b[0m\u001b[0;34m.\u001b[0m\u001b[0msavefig\u001b[0m\u001b[0;34m(\u001b[0m\u001b[0;34m*\u001b[0m\u001b[0margs\u001b[0m\u001b[0;34m,\u001b[0m \u001b[0;34m**\u001b[0m\u001b[0mkwargs\u001b[0m\u001b[0;34m)\u001b[0m\u001b[0;34m\u001b[0m\u001b[0;34m\u001b[0m\u001b[0m\n\u001b[0m\u001b[1;32m    724\u001b[0m     \u001b[0mfig\u001b[0m\u001b[0;34m.\u001b[0m\u001b[0mcanvas\u001b[0m\u001b[0;34m.\u001b[0m\u001b[0mdraw_idle\u001b[0m\u001b[0;34m(\u001b[0m\u001b[0;34m)\u001b[0m   \u001b[0;31m# need this if 'transparent=True' to reset colors\u001b[0m\u001b[0;34m\u001b[0m\u001b[0;34m\u001b[0m\u001b[0m\n\u001b[1;32m    725\u001b[0m     \u001b[0;32mreturn\u001b[0m \u001b[0mres\u001b[0m\u001b[0;34m\u001b[0m\u001b[0;34m\u001b[0m\u001b[0m\n",
            "\u001b[0;32m/usr/local/lib/python3.6/dist-packages/matplotlib/figure.py\u001b[0m in \u001b[0;36msavefig\u001b[0;34m(self, fname, transparent, **kwargs)\u001b[0m\n\u001b[1;32m   2201\u001b[0m             \u001b[0mself\u001b[0m\u001b[0;34m.\u001b[0m\u001b[0mpatch\u001b[0m\u001b[0;34m.\u001b[0m\u001b[0mset_visible\u001b[0m\u001b[0;34m(\u001b[0m\u001b[0mframeon\u001b[0m\u001b[0;34m)\u001b[0m\u001b[0;34m\u001b[0m\u001b[0;34m\u001b[0m\u001b[0m\n\u001b[1;32m   2202\u001b[0m \u001b[0;34m\u001b[0m\u001b[0m\n\u001b[0;32m-> 2203\u001b[0;31m         \u001b[0mself\u001b[0m\u001b[0;34m.\u001b[0m\u001b[0mcanvas\u001b[0m\u001b[0;34m.\u001b[0m\u001b[0mprint_figure\u001b[0m\u001b[0;34m(\u001b[0m\u001b[0mfname\u001b[0m\u001b[0;34m,\u001b[0m \u001b[0;34m**\u001b[0m\u001b[0mkwargs\u001b[0m\u001b[0;34m)\u001b[0m\u001b[0;34m\u001b[0m\u001b[0;34m\u001b[0m\u001b[0m\n\u001b[0m\u001b[1;32m   2204\u001b[0m \u001b[0;34m\u001b[0m\u001b[0m\n\u001b[1;32m   2205\u001b[0m         \u001b[0;32mif\u001b[0m \u001b[0mframeon\u001b[0m\u001b[0;34m:\u001b[0m\u001b[0;34m\u001b[0m\u001b[0;34m\u001b[0m\u001b[0m\n",
            "\u001b[0;32m/usr/local/lib/python3.6/dist-packages/matplotlib/backend_bases.py\u001b[0m in \u001b[0;36mprint_figure\u001b[0;34m(self, filename, dpi, facecolor, edgecolor, orientation, format, bbox_inches, **kwargs)\u001b[0m\n\u001b[1;32m   2124\u001b[0m                     \u001b[0morientation\u001b[0m\u001b[0;34m=\u001b[0m\u001b[0morientation\u001b[0m\u001b[0;34m,\u001b[0m\u001b[0;34m\u001b[0m\u001b[0;34m\u001b[0m\u001b[0m\n\u001b[1;32m   2125\u001b[0m                     \u001b[0mbbox_inches_restore\u001b[0m\u001b[0;34m=\u001b[0m\u001b[0m_bbox_inches_restore\u001b[0m\u001b[0;34m,\u001b[0m\u001b[0;34m\u001b[0m\u001b[0;34m\u001b[0m\u001b[0m\n\u001b[0;32m-> 2126\u001b[0;31m                     **kwargs)\n\u001b[0m\u001b[1;32m   2127\u001b[0m             \u001b[0;32mfinally\u001b[0m\u001b[0;34m:\u001b[0m\u001b[0;34m\u001b[0m\u001b[0;34m\u001b[0m\u001b[0m\n\u001b[1;32m   2128\u001b[0m                 \u001b[0;32mif\u001b[0m \u001b[0mbbox_inches\u001b[0m \u001b[0;32mand\u001b[0m \u001b[0mrestore_bbox\u001b[0m\u001b[0;34m:\u001b[0m\u001b[0;34m\u001b[0m\u001b[0;34m\u001b[0m\u001b[0m\n",
            "\u001b[0;32m/usr/local/lib/python3.6/dist-packages/matplotlib/backends/backend_agg.py\u001b[0m in \u001b[0;36mprint_png\u001b[0;34m(self, filename_or_obj, metadata, pil_kwargs, *args, **kwargs)\u001b[0m\n\u001b[1;32m    533\u001b[0m         \u001b[0;32melse\u001b[0m\u001b[0;34m:\u001b[0m\u001b[0;34m\u001b[0m\u001b[0;34m\u001b[0m\u001b[0m\n\u001b[1;32m    534\u001b[0m             \u001b[0mrenderer\u001b[0m \u001b[0;34m=\u001b[0m \u001b[0mself\u001b[0m\u001b[0;34m.\u001b[0m\u001b[0mget_renderer\u001b[0m\u001b[0;34m(\u001b[0m\u001b[0;34m)\u001b[0m\u001b[0;34m\u001b[0m\u001b[0;34m\u001b[0m\u001b[0m\n\u001b[0;32m--> 535\u001b[0;31m             \u001b[0;32mwith\u001b[0m \u001b[0mcbook\u001b[0m\u001b[0;34m.\u001b[0m\u001b[0mopen_file_cm\u001b[0m\u001b[0;34m(\u001b[0m\u001b[0mfilename_or_obj\u001b[0m\u001b[0;34m,\u001b[0m \u001b[0;34m\"wb\"\u001b[0m\u001b[0;34m)\u001b[0m \u001b[0;32mas\u001b[0m \u001b[0mfh\u001b[0m\u001b[0;34m:\u001b[0m\u001b[0;34m\u001b[0m\u001b[0;34m\u001b[0m\u001b[0m\n\u001b[0m\u001b[1;32m    536\u001b[0m                 _png.write_png(renderer._renderer, fh, self.figure.dpi,\n\u001b[1;32m    537\u001b[0m                                metadata={**default_metadata, **metadata})\n",
            "\u001b[0;32m/usr/lib/python3.6/contextlib.py\u001b[0m in \u001b[0;36m__enter__\u001b[0;34m(self)\u001b[0m\n\u001b[1;32m     79\u001b[0m     \u001b[0;32mdef\u001b[0m \u001b[0m__enter__\u001b[0m\u001b[0;34m(\u001b[0m\u001b[0mself\u001b[0m\u001b[0;34m)\u001b[0m\u001b[0;34m:\u001b[0m\u001b[0;34m\u001b[0m\u001b[0;34m\u001b[0m\u001b[0m\n\u001b[1;32m     80\u001b[0m         \u001b[0;32mtry\u001b[0m\u001b[0;34m:\u001b[0m\u001b[0;34m\u001b[0m\u001b[0;34m\u001b[0m\u001b[0m\n\u001b[0;32m---> 81\u001b[0;31m             \u001b[0;32mreturn\u001b[0m \u001b[0mnext\u001b[0m\u001b[0;34m(\u001b[0m\u001b[0mself\u001b[0m\u001b[0;34m.\u001b[0m\u001b[0mgen\u001b[0m\u001b[0;34m)\u001b[0m\u001b[0;34m\u001b[0m\u001b[0;34m\u001b[0m\u001b[0m\n\u001b[0m\u001b[1;32m     82\u001b[0m         \u001b[0;32mexcept\u001b[0m \u001b[0mStopIteration\u001b[0m\u001b[0;34m:\u001b[0m\u001b[0;34m\u001b[0m\u001b[0;34m\u001b[0m\u001b[0m\n\u001b[1;32m     83\u001b[0m             \u001b[0;32mraise\u001b[0m \u001b[0mRuntimeError\u001b[0m\u001b[0;34m(\u001b[0m\u001b[0;34m\"generator didn't yield\"\u001b[0m\u001b[0;34m)\u001b[0m \u001b[0;32mfrom\u001b[0m \u001b[0;32mNone\u001b[0m\u001b[0;34m\u001b[0m\u001b[0;34m\u001b[0m\u001b[0m\n",
            "\u001b[0;32m/usr/local/lib/python3.6/dist-packages/matplotlib/cbook/__init__.py\u001b[0m in \u001b[0;36mopen_file_cm\u001b[0;34m(path_or_file, mode, encoding)\u001b[0m\n\u001b[1;32m    416\u001b[0m \u001b[0;32mdef\u001b[0m \u001b[0mopen_file_cm\u001b[0m\u001b[0;34m(\u001b[0m\u001b[0mpath_or_file\u001b[0m\u001b[0;34m,\u001b[0m \u001b[0mmode\u001b[0m\u001b[0;34m=\u001b[0m\u001b[0;34m\"r\"\u001b[0m\u001b[0;34m,\u001b[0m \u001b[0mencoding\u001b[0m\u001b[0;34m=\u001b[0m\u001b[0;32mNone\u001b[0m\u001b[0;34m)\u001b[0m\u001b[0;34m:\u001b[0m\u001b[0;34m\u001b[0m\u001b[0;34m\u001b[0m\u001b[0m\n\u001b[1;32m    417\u001b[0m     \u001b[0;34mr\"\"\"Pass through file objects and context-manage `.PathLike`\\s.\"\"\"\u001b[0m\u001b[0;34m\u001b[0m\u001b[0;34m\u001b[0m\u001b[0m\n\u001b[0;32m--> 418\u001b[0;31m     \u001b[0mfh\u001b[0m\u001b[0;34m,\u001b[0m \u001b[0mopened\u001b[0m \u001b[0;34m=\u001b[0m \u001b[0mto_filehandle\u001b[0m\u001b[0;34m(\u001b[0m\u001b[0mpath_or_file\u001b[0m\u001b[0;34m,\u001b[0m \u001b[0mmode\u001b[0m\u001b[0;34m,\u001b[0m \u001b[0;32mTrue\u001b[0m\u001b[0;34m,\u001b[0m \u001b[0mencoding\u001b[0m\u001b[0;34m)\u001b[0m\u001b[0;34m\u001b[0m\u001b[0;34m\u001b[0m\u001b[0m\n\u001b[0m\u001b[1;32m    419\u001b[0m     \u001b[0;32mif\u001b[0m \u001b[0mopened\u001b[0m\u001b[0;34m:\u001b[0m\u001b[0;34m\u001b[0m\u001b[0;34m\u001b[0m\u001b[0m\n\u001b[1;32m    420\u001b[0m         \u001b[0;32mwith\u001b[0m \u001b[0mfh\u001b[0m\u001b[0;34m:\u001b[0m\u001b[0;34m\u001b[0m\u001b[0;34m\u001b[0m\u001b[0m\n",
            "\u001b[0;32m/usr/local/lib/python3.6/dist-packages/matplotlib/cbook/__init__.py\u001b[0m in \u001b[0;36mto_filehandle\u001b[0;34m(fname, flag, return_opened, encoding)\u001b[0m\n\u001b[1;32m    401\u001b[0m             \u001b[0mfh\u001b[0m \u001b[0;34m=\u001b[0m \u001b[0mbz2\u001b[0m\u001b[0;34m.\u001b[0m\u001b[0mBZ2File\u001b[0m\u001b[0;34m(\u001b[0m\u001b[0mfname\u001b[0m\u001b[0;34m,\u001b[0m \u001b[0mflag\u001b[0m\u001b[0;34m)\u001b[0m\u001b[0;34m\u001b[0m\u001b[0;34m\u001b[0m\u001b[0m\n\u001b[1;32m    402\u001b[0m         \u001b[0;32melse\u001b[0m\u001b[0;34m:\u001b[0m\u001b[0;34m\u001b[0m\u001b[0;34m\u001b[0m\u001b[0m\n\u001b[0;32m--> 403\u001b[0;31m             \u001b[0mfh\u001b[0m \u001b[0;34m=\u001b[0m \u001b[0mopen\u001b[0m\u001b[0;34m(\u001b[0m\u001b[0mfname\u001b[0m\u001b[0;34m,\u001b[0m \u001b[0mflag\u001b[0m\u001b[0;34m,\u001b[0m \u001b[0mencoding\u001b[0m\u001b[0;34m=\u001b[0m\u001b[0mencoding\u001b[0m\u001b[0;34m)\u001b[0m\u001b[0;34m\u001b[0m\u001b[0;34m\u001b[0m\u001b[0m\n\u001b[0m\u001b[1;32m    404\u001b[0m         \u001b[0mopened\u001b[0m \u001b[0;34m=\u001b[0m \u001b[0;32mTrue\u001b[0m\u001b[0;34m\u001b[0m\u001b[0;34m\u001b[0m\u001b[0m\n\u001b[1;32m    405\u001b[0m     \u001b[0;32melif\u001b[0m \u001b[0mhasattr\u001b[0m\u001b[0;34m(\u001b[0m\u001b[0mfname\u001b[0m\u001b[0;34m,\u001b[0m \u001b[0;34m'seek'\u001b[0m\u001b[0;34m)\u001b[0m\u001b[0;34m:\u001b[0m\u001b[0;34m\u001b[0m\u001b[0;34m\u001b[0m\u001b[0m\n",
            "\u001b[0;31mFileNotFoundError\u001b[0m: [Errno 2] No such file or directory: '/imgs/image.png'"
          ]
        },
        {
          "output_type": "display_data",
          "data": {
            "image/png": "[encoded data removed]",
            "text/plain": [
              "<Figure size 432x288 with 1 Axes>"
            ]
          },
          "metadata": {
            "tags": [],
            "needs_background": "light"
          }
        }
      ]
    },
    {
      "cell_type": "code",
      "metadata": {
        "id": "iDkRHc1iayoJ",
        "colab_type": "code",
        "colab": {}
      },
      "source": [
        "plt.show()"
      ],
      "execution_count": null,
      "outputs": []
    },
    {
      "cell_type": "code",
      "metadata": {
        "id": "rACpuq9AdABT",
        "colab_type": "code",
        "colab": {}
      },
      "source": [
        "!cd /\n",
        "!rm -rf /*.png"
      ],
      "execution_count": null,
      "outputs": []
    },
    {
      "cell_type": "code",
      "metadata": {
        "id": "uXZJhtX3de0L",
        "colab_type": "code",
        "colab": {}
      },
      "source": [
        "import imageio"
      ],
      "execution_count": null,
      "outputs": []
    },
    {
      "cell_type": "code",
      "metadata": {
        "id": "OzEEQrRceqUK",
        "colab_type": "code",
        "colab": {}
      },
      "source": [
        "import imageio\n",
        "images = []\n",
        "for i in range(21):\n",
        "    images.append(imageio.imread('/' + str(i) + '.png'))\n",
        "imageio.mimsave('/movie.gif', images)"
      ],
      "execution_count": 18,
      "outputs": []
    },
    {
      "cell_type": "code",
      "metadata": {
        "id": "qD83Xmu_e7n9",
        "colab_type": "code",
        "colab": {}
      },
      "source": [
        "def make_gif(ep_num, name):\n",
        "    for i in range(21):\n",
        "        if i != 20:\n",
        "            draw(maps[ep_num][i], probs[ep_num][i // 2 * 2], probs[ep_num][i // 2 * 2 + 1], i)\n",
        "        else:\n",
        "            draw(maps[ep_num][i], probs[ep_num][18], probs[ep_num][19], i)\n",
        "    images = []\n",
        "    for i in range(21):\n",
        "        images.append(imageio.imread('/' + str(i) + '.png'))\n",
        "    imageio.mimsave('/' + name + '.gif', images)"
      ],
      "execution_count": 26,
      "outputs": []
    },
    {
      "cell_type": "code",
      "metadata": {
        "id": "Ph2sRN9RfIvt",
        "colab_type": "code",
        "colab": {
          "base_uri": "https://localhost:8080/",
          "height": 428
        },
        "outputId": "e2e70cc2-7dd2-4bda-e05e-e80bb034f460"
      },
      "source": [
        "make_gif(8186)"
      ],
      "execution_count": null,
      "outputs": [
        {
          "output_type": "stream",
          "text": [
            "/usr/local/lib/python3.6/dist-packages/ipykernel_launcher.py:2: RuntimeWarning: More than 20 figures have been opened. Figures created through the pyplot interface (`matplotlib.pyplot.figure`) are retained until explicitly closed and may consume too much memory. (To control this warning, see the rcParam `figure.max_open_warning`).\n",
            "  \n"
          ],
          "name": "stderr"
        },
        {
          "output_type": "display_data",
          "data": {
            "text/plain": [
              "<Figure size 576x432 with 0 Axes>"
            ]
          },
          "metadata": {
            "tags": []
          }
        },
        {
          "output_type": "display_data",
          "data": {
            "text/plain": [
              "<Figure size 576x432 with 0 Axes>"
            ]
          },
          "metadata": {
            "tags": []
          }
        },
        {
          "output_type": "display_data",
          "data": {
            "text/plain": [
              "<Figure size 576x432 with 0 Axes>"
            ]
          },
          "metadata": {
            "tags": []
          }
        },
        {
          "output_type": "display_data",
          "data": {
            "text/plain": [
              "<Figure size 576x432 with 0 Axes>"
            ]
          },
          "metadata": {
            "tags": []
          }
        },
        {
          "output_type": "display_data",
          "data": {
            "text/plain": [
              "<Figure size 576x432 with 0 Axes>"
            ]
          },
          "metadata": {
            "tags": []
          }
        },
        {
          "output_type": "display_data",
          "data": {
            "text/plain": [
              "<Figure size 576x432 with 0 Axes>"
            ]
          },
          "metadata": {
            "tags": []
          }
        },
        {
          "output_type": "display_data",
          "data": {
            "text/plain": [
              "<Figure size 576x432 with 0 Axes>"
            ]
          },
          "metadata": {
            "tags": []
          }
        },
        {
          "output_type": "display_data",
          "data": {
            "text/plain": [
              "<Figure size 576x432 with 0 Axes>"
            ]
          },
          "metadata": {
            "tags": []
          }
        },
        {
          "output_type": "display_data",
          "data": {
            "text/plain": [
              "<Figure size 576x432 with 0 Axes>"
            ]
          },
          "metadata": {
            "tags": []
          }
        },
        {
          "output_type": "display_data",
          "data": {
            "text/plain": [
              "<Figure size 576x432 with 0 Axes>"
            ]
          },
          "metadata": {
            "tags": []
          }
        },
        {
          "output_type": "display_data",
          "data": {
            "text/plain": [
              "<Figure size 576x432 with 0 Axes>"
            ]
          },
          "metadata": {
            "tags": []
          }
        },
        {
          "output_type": "display_data",
          "data": {
            "text/plain": [
              "<Figure size 576x432 with 0 Axes>"
            ]
          },
          "metadata": {
            "tags": []
          }
        },
        {
          "output_type": "display_data",
          "data": {
            "text/plain": [
              "<Figure size 576x432 with 0 Axes>"
            ]
          },
          "metadata": {
            "tags": []
          }
        },
        {
          "output_type": "display_data",
          "data": {
            "text/plain": [
              "<Figure size 576x432 with 0 Axes>"
            ]
          },
          "metadata": {
            "tags": []
          }
        },
        {
          "output_type": "display_data",
          "data": {
            "text/plain": [
              "<Figure size 576x432 with 0 Axes>"
            ]
          },
          "metadata": {
            "tags": []
          }
        },
        {
          "output_type": "display_data",
          "data": {
            "text/plain": [
              "<Figure size 576x432 with 0 Axes>"
            ]
          },
          "metadata": {
            "tags": []
          }
        },
        {
          "output_type": "display_data",
          "data": {
            "text/plain": [
              "<Figure size 576x432 with 0 Axes>"
            ]
          },
          "metadata": {
            "tags": []
          }
        },
        {
          "output_type": "display_data",
          "data": {
            "text/plain": [
              "<Figure size 576x432 with 0 Axes>"
            ]
          },
          "metadata": {
            "tags": []
          }
        },
        {
          "output_type": "display_data",
          "data": {
            "text/plain": [
              "<Figure size 576x432 with 0 Axes>"
            ]
          },
          "metadata": {
            "tags": []
          }
        },
        {
          "output_type": "display_data",
          "data": {
            "text/plain": [
              "<Figure size 576x432 with 0 Axes>"
            ]
          },
          "metadata": {
            "tags": []
          }
        },
        {
          "output_type": "display_data",
          "data": {
            "text/plain": [
              "<Figure size 576x432 with 0 Axes>"
            ]
          },
          "metadata": {
            "tags": []
          }
        }
      ]
    },
    {
      "cell_type": "code",
      "metadata": {
        "id": "9K3qOt-DtwGH",
        "colab_type": "code",
        "colab": {}
      },
      "source": [
        "import matplotlib.pyplot as plt\n",
        "import numpy as np\n",
        "\n",
        "# Some example data to display\n",
        "x = np.linspace(0, 2 * np.pi, 400)\n",
        "y = np.sin(x ** 2)"
      ],
      "execution_count": null,
      "outputs": []
    },
    {
      "cell_type": "code",
      "metadata": {
        "id": "Pdi8cXZOt0d_",
        "colab_type": "code",
        "colab": {
          "base_uri": "https://localhost:8080/",
          "height": 265
        },
        "outputId": "a8e49b2c-8037-4de7-c2e3-34b4dd4a73e6"
      },
      "source": [
        "fig, axs = plt.subplots(2)\n",
        "axs[0].plot(x, y)\n",
        "axs[1].plot(y, x)\n",
        "axs[0].set_xlim(0, 1)\n",
        "axs[1].set_xlim(0, 10)\n",
        "#fig.savefig('/1.png')\n",
        "fig.show()\n",
        "#fig.clf()"
      ],
      "execution_count": null,
      "outputs": [
        {
          "output_type": "display_data",
          "data": {
            "image/png": "[encoded data removed]",
            "text/plain": [
              "<Figure size 432x288 with 2 Axes>"
            ]
          },
          "metadata": {
            "tags": [],
            "needs_background": "light"
          }
        }
      ]
    },
    {
      "cell_type": "code",
      "metadata": {
        "id": "6sCM1gwot8Sq",
        "colab_type": "code",
        "colab": {
          "base_uri": "https://localhost:8080/",
          "height": 286
        },
        "outputId": "ee242c59-3c31-4429-a8c9-828b93cc6cb0"
      },
      "source": [
        "plt.ylim(0, 5)\n",
        "plt.bar([0, 1, 2, 3, 4], [0, 1, 1, 1, 0])"
      ],
      "execution_count": null,
      "outputs": [
        {
          "output_type": "execute_result",
          "data": {
            "text/plain": [
              "<BarContainer object of 5 artists>"
            ]
          },
          "metadata": {
            "tags": []
          },
          "execution_count": 9
        },
        {
          "output_type": "display_data",
          "data": {
            "image/png": "[encoded data removed]",
            "text/plain": [
              "<Figure size 432x288 with 1 Axes>"
            ]
          },
          "metadata": {
            "tags": [],
            "needs_background": "light"
          }
        }
      ]
    },
    {
      "cell_type": "code",
      "metadata": {
        "id": "PO1q0K46Iw25",
        "colab_type": "code",
        "colab": {}
      },
      "source": [
        ""
      ],
      "execution_count": null,
      "outputs": []
    }
  ]
}