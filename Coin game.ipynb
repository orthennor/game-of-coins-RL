{
 "cells": [
  {
   "cell_type": "code",
   "execution_count": 59,
   "metadata": {},
   "outputs": [],
   "source": [
    "import numpy as np\n",
    "import random"
   ]
  },
  {
   "cell_type": "code",
   "execution_count": 219,
   "metadata": {},
   "outputs": [],
   "source": [
    "class env:\n",
    "        \n",
    "    def __init__(self, size, step_limit):\n",
    "        self.number_of_resources = 3\n",
    "        self.amount_of_resource = 4\n",
    "        \n",
    "        self.size = size\n",
    "        self.step_limit = step_limit\n",
    "        \n",
    "        self.initialize_map()\n",
    "        self.rand_initialize_resources()\n",
    "        \n",
    "        self.valid_moves = ['up', 'down', 'left', 'right', 'pass']\n",
    "    \n",
    "    def initialize_map(self):\n",
    "        self.map = np.zeros((self.size, self.size), dtype=int)\n",
    "        agent_rand_loc = randint(0,1)\n",
    "        if agent_rand_loc:\n",
    "            self.agent_1 = [0,self.size -1]\n",
    "            self.map[0,self.size -1 ] = -1\n",
    "            self.agent_2 = [0,0]\n",
    "            self.map[0, 0] = -2\n",
    "            \n",
    "        else:\n",
    "            self.agent_1 = [0,0]\n",
    "            self.map[0,0] = -1\n",
    "            self.agent_2 = [0,self.size-1]\n",
    "            self.map[0,self.size-1] = -2\n",
    "        \n",
    "    def rand_initialize_resources(self):\n",
    "        index = [i for i in range(self.size**2) if (i != 0) and (i != self.size)]\n",
    "        all_indexes = random.sample(index, self.number_of_resources*self.amount_of_resource)\n",
    "        res_ind = []\n",
    "        for i in range(self.number_of_resources):\n",
    "            resource = random.sample(all_indexes, self.amount_of_resource)\n",
    "            all_indexes = [r for r in all_indexes if r not in resource]\n",
    "            resource = [(int(r/self.size),r%self.size) for r in resource]\n",
    "            for ind in range(len(resource)):\n",
    "                x, y = resource[ind][0], resource[ind][1]\n",
    "                self.map[x, y] = i+1\n",
    "                \n",
    "    def update(self, move):\n",
    "        if move not in self.valid_moves:\n",
    "            print('icorrect move')\n",
    "        else:\n",
    "            print('correct move')"
   ]
  },
  {
   "cell_type": "code",
   "execution_count": 220,
   "metadata": {},
   "outputs": [],
   "source": [
    "env_1 = env(8, 20)"
   ]
  },
  {
   "cell_type": "code",
   "execution_count": 221,
   "metadata": {},
   "outputs": [
    {
     "name": "stdout",
     "output_type": "stream",
     "text": [
      "correct move\n"
     ]
    }
   ],
   "source": [
    "env_1.update('up')"
   ]
  },
  {
   "cell_type": "code",
   "execution_count": 222,
   "metadata": {},
   "outputs": [
    {
     "data": {
      "text/plain": [
       "[0, 0]"
      ]
     },
     "execution_count": 222,
     "metadata": {},
     "output_type": "execute_result"
    }
   ],
   "source": [
    "env_1.agent_1"
   ]
  },
  {
   "cell_type": "code",
   "execution_count": 223,
   "metadata": {},
   "outputs": [
    {
     "data": {
      "text/plain": [
       "[0, 7]"
      ]
     },
     "execution_count": 223,
     "metadata": {},
     "output_type": "execute_result"
    }
   ],
   "source": [
    "env_1.agent_2"
   ]
  },
  {
   "cell_type": "code",
   "execution_count": 224,
   "metadata": {},
   "outputs": [
    {
     "data": {
      "text/plain": [
       "array([[-1,  0,  0,  0,  0,  0,  1, -2],\n",
       "       [ 0,  0,  0,  0,  0,  3,  0,  0],\n",
       "       [ 0,  0,  0,  0,  0,  0,  1,  0],\n",
       "       [ 2,  0,  0,  0,  2,  2,  0,  0],\n",
       "       [ 0,  0,  0,  0,  0,  0,  0,  0],\n",
       "       [ 3,  3,  0,  0,  1,  3,  0,  0],\n",
       "       [ 1,  0,  0,  0,  0,  0,  2,  0],\n",
       "       [ 0,  0,  0,  0,  0,  0,  0,  0]])"
      ]
     },
     "execution_count": 224,
     "metadata": {},
     "output_type": "execute_result"
    }
   ],
   "source": [
    "env_1.map"
   ]
  },
  {
   "cell_type": "code",
   "execution_count": 128,
   "metadata": {},
   "outputs": [],
   "source": [
    "check = 0\n",
    "for i in range(1000):\n",
    "    check += randint(0,1)"
   ]
  },
  {
   "cell_type": "code",
   "execution_count": 129,
   "metadata": {},
   "outputs": [
    {
     "data": {
      "text/plain": [
       "508"
      ]
     },
     "execution_count": 129,
     "metadata": {},
     "output_type": "execute_result"
    }
   ],
   "source": [
    "check"
   ]
  },
  {
   "cell_type": "code",
   "execution_count": null,
   "metadata": {},
   "outputs": [],
   "source": []
  }
 ],
 "metadata": {
  "kernelspec": {
   "display_name": "Python 3",
   "language": "python",
   "name": "python3"
  },
  "language_info": {
   "codemirror_mode": {
    "name": "ipython",
    "version": 3
   },
   "file_extension": ".py",
   "mimetype": "text/x-python",
   "name": "python",
   "nbconvert_exporter": "python",
   "pygments_lexer": "ipython3",
   "version": "3.7.3"
  }
 },
 "nbformat": 4,
 "nbformat_minor": 2
}
